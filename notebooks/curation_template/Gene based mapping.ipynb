{
 "cells": [
  {
   "cell_type": "markdown",
   "metadata": {},
   "source": [
    "# ComPath -  Gene based comparison\n",
    "\n",
    "\n",
    "The goal of this notebook is to calculate the overlap between ComPath resources based on the similarity gene sets. The measurement used in this notebook to measure pathway similarity is described in [Chen et al.](http://journals.plos.org/plosone/article/authors?id=10.1371/journal.pone.0099030).\n",
    "\n",
    "#### Author: [Daniel Domingo-Fernández](https://github.com/ddomingof) "
   ]
  },
  {
   "cell_type": "markdown",
   "metadata": {},
   "source": [
    "### Import packages needed"
   ]
  },
  {
   "cell_type": "code",
   "execution_count": null,
   "metadata": {
    "collapsed": true
   },
   "outputs": [],
   "source": [
    "import time\n",
    "import sys\n",
    "import os\n",
    "\n",
    "import pandas as pd\n",
    "import itertools as itt\n",
    "from collections import defaultdict\n",
    "\n",
    "from bio2bel_kegg.manager import Manager as KeggManager\n",
    "from bio2bel_reactome.manager import Manager as ReactomeManager\n",
    "from bio2bel_wikipathways.manager import Manager as WikiPathwaysManager"
   ]
  },
  {
   "cell_type": "markdown",
   "metadata": {},
   "source": [
    "### Configuration"
   ]
  },
  {
   "cell_type": "code",
   "execution_count": null,
   "metadata": {
    "collapsed": true
   },
   "outputs": [],
   "source": [
    "time.asctime()"
   ]
  },
  {
   "cell_type": "code",
   "execution_count": null,
   "metadata": {
    "collapsed": true
   },
   "outputs": [],
   "source": [
    "print(sys.version)"
   ]
  },
  {
   "cell_type": "code",
   "execution_count": null,
   "metadata": {
    "collapsed": true
   },
   "outputs": [],
   "source": [
    "COMPATH_PATH = os.environ['COMPATH']\n",
    "EXCELS_PATH = os.path.join(COMPATH_PATH,'src','compath','static','resources','excel')"
   ]
  },
  {
   "cell_type": "markdown",
   "metadata": {},
   "source": [
    "### Load resources"
   ]
  },
  {
   "cell_type": "code",
   "execution_count": null,
   "metadata": {
    "collapsed": true
   },
   "outputs": [],
   "source": [
    "kegg_excel = os.path.join(EXCELS_PATH,'kegg_gene_sets.xlsx')\n",
    "reactome_excel= os.path.join(EXCELS_PATH,'reactome_gene_sets.xlsx')\n",
    "wikipathways_excel = os.path.join(EXCELS_PATH,'wikipathways_gene_sets.xlsx')"
   ]
  },
  {
   "cell_type": "code",
   "execution_count": null,
   "metadata": {
    "collapsed": true
   },
   "outputs": [],
   "source": [
    "def create_pathway_gene_set_dict(dataframe):\n",
    "    \"\"\"Creates a pathway genes dictionary\n",
    "    \n",
    "    :param pandas.DataFrame dataset: gene sets df\n",
    "    :rtype: collections.defaultdict\n",
    "    :returns: dictionary of pathway gene sets\n",
    "    \"\"\"\n",
    "    \n",
    "    pathway_dictionary = defaultdict(set)\n",
    "    \n",
    "    for pathway_name in dataframe: # iterate over columns in dataframe\n",
    "\n",
    "        for gene in dataframe[pathway_name].unique():\n",
    "            if not isinstance(gene, str): # There are NaN in the Pandas nArray\n",
    "                continue\n",
    "\n",
    "            pathway_dictionary[pathway_name].add(gene)\n",
    "            \n",
    "    return pathway_dictionary"
   ]
  },
  {
   "cell_type": "markdown",
   "metadata": {},
   "source": [
    "Load KEGG"
   ]
  },
  {
   "cell_type": "code",
   "execution_count": null,
   "metadata": {
    "collapsed": true
   },
   "outputs": [],
   "source": [
    "kegg_dataframe = pd.read_excel(kegg_excel, dtype=object)\n",
    "\n",
    "# Remove the 'Homo sapiens' out of the KEGG pathways\n",
    "kegg_dataframe.columns = [\n",
    "    kegg_pathway.replace(' - Homo sapiens (human)', '')\n",
    "    for kegg_pathway in kegg_dataframe\n",
    "] \n",
    "\n",
    "kegg_pathways = create_pathway_gene_set_dict(kegg_dataframe)\n",
    "\n",
    "kegg_manager = KeggManager()\n",
    "\n",
    "kegg_names_to_ids = kegg_manager.get_pathway_names_to_ids()\n",
    "\n",
    "kegg_names_to_ids = {\n",
    "    key.replace(' - Homo sapiens (human)', ''): value.strip('path:hsa')\n",
    "    for key, value in kegg_names_to_ids.items()\n",
    "}\n",
    "\n",
    "try:\n",
    "    assert (len(kegg_names_to_ids.keys()) == 325)\n",
    "except AssertionError as error:\n",
    "    print('KEGG Database contains {} pathways'.format(len(kegg_names_to_ids.keys())))\n",
    "    \n",
    "try:\n",
    "    assert (len(kegg_pathways.keys()) == 325)\n",
    "except AssertionError as error:\n",
    "    print('DataFrame does not contain 325 pathways, contains: {}'.format(len(kegg_pathways.keys())))"
   ]
  },
  {
   "cell_type": "markdown",
   "metadata": {},
   "source": [
    "Load Reactome"
   ]
  },
  {
   "cell_type": "code",
   "execution_count": null,
   "metadata": {
    "collapsed": true
   },
   "outputs": [],
   "source": [
    "reactome_dataframe = pd.read_excel(reactome_excel, dtype=object)\n",
    "\n",
    "reactome_pathways = create_pathway_gene_set_dict(reactome_dataframe)\n",
    "\n",
    "reactome_manager = ReactomeManager()\n",
    "\n",
    "reactome_names_to_ids = reactome_manager.get_pathway_names_to_ids()\n",
    "\n",
    "try:\n",
    "    assert (len(reactome_names_to_ids.keys()) == 2162)\n",
    "except AssertionError as error:\n",
    "    print('Reactome Database contains {} pathways'.format(len(reactome_names_to_ids.keys()))) # Total of 2662 of those: 2132 are not empty\n",
    "    \n",
    "try:\n",
    "    assert (len(reactome_pathways.keys()) == 2132)\n",
    "except AssertionError as error:\n",
    "    print('DataFrame does not contain 2132 pathways, contains: {}'.format(len(reactome_pathways.keys())))\n"
   ]
  },
  {
   "cell_type": "markdown",
   "metadata": {},
   "source": [
    "Load WikiPathways"
   ]
  },
  {
   "cell_type": "code",
   "execution_count": null,
   "metadata": {
    "collapsed": true
   },
   "outputs": [],
   "source": [
    "wikipathways_dataframe = pd.read_excel(wikipathways_excel, dtype=object)\n",
    "\n",
    "wikipathways_pathways = create_pathway_gene_set_dict(wikipathways_dataframe)\n",
    "\n",
    "wikipathways_manager = WikiPathwaysManager()\n",
    "\n",
    "wikipathways_names_to_ids = wikipathways_manager.get_pathway_names_to_ids()\n",
    "\n",
    "# Update on 3rd April 2018\n",
    "try:\n",
    "    assert (len(wikipathways_names_to_ids.keys()) == 420)\n",
    "except AssertionError as error:\n",
    "    print('WikiPathways Database contains {} pathways'.format(len(wikipathways_names_to_ids.keys())))\n",
    "    \n",
    "try:\n",
    "    assert (len(wikipathways_pathways.keys()) == 420)\n",
    "except AssertionError as error:\n",
    "    print('DataFrame does not contain 420 pathways, contains: {}'.format(len(wikipathways_pathways.keys())))"
   ]
  },
  {
   "cell_type": "markdown",
   "metadata": {
    "collapsed": true
   },
   "source": [
    "### Pairwise comparison of pathway databases based on content (gene sets)"
   ]
  },
  {
   "cell_type": "code",
   "execution_count": null,
   "metadata": {
    "collapsed": true
   },
   "outputs": [],
   "source": [
    "pathway_databases = ['KEGG', 'Reactome','WikiPathways']\n",
    "\n",
    "for pathway_database_1, pathway_database2 in itt.combinations(pathway_databases, 2):\n",
    "    print(\"{} vs {}\".format(pathway_database_1, pathway_database2))"
   ]
  },
  {
   "cell_type": "code",
   "execution_count": null,
   "metadata": {
    "collapsed": true
   },
   "outputs": [],
   "source": [
    "def calculate_jaccard(set_1, set_2):\n",
    "    \"\"\"calculates jaccard similarity between two sets\n",
    "    \n",
    "    :param set set_1: set 1\n",
    "    :param set set_2: set 2\n",
    "    :returns similarity\n",
    "    :rtype: float\n",
    "    \"\"\"\n",
    "    \n",
    "    intersection = len(set_1.intersection(set_2))\n",
    "    smaller_set = min(len(set_1), len(set_2))\n",
    "        \n",
    "    return intersection/smaller_set\n",
    "\n",
    "def create_similarity_matrix(pathway_database_1, pathway_database_2):\n",
    "    \"\"\"Creates a similarity matrix for a given pathway-geneset dataset\n",
    "    \n",
    "    :param dict pathway_database_1: pathway gene set dictionary\n",
    "    :param dict pathway_database_2: pathway gene set dictionary\n",
    "    :rtype: pandas.DataFrame\n",
    "    :returns: similarity matrix\n",
    "    \"\"\"\n",
    "    \n",
    "    rows = sorted(pathway_database_1.keys())\n",
    "    columns = sorted(pathway_database_2.keys())\n",
    "    \n",
    "    similarity_dataframe = pd.DataFrame(0.0, index=rows, columns=columns)\n",
    "\n",
    "    for (pathway_1, gene_set_1), (pathway_2, gene_set_2) in itt.product(pathway_database_1.items(),pathway_database_2.items()):\n",
    "        similarity_dataframe[pathway_2][pathway_1] = calculate_jaccard(gene_set_1, gene_set_2)\n",
    "    \n",
    "    return similarity_dataframe\n",
    "\n",
    "def get_top_matches(names, top=10):\n",
    "    \"\"\"Orders list of tuples by second value and returns top values\n",
    "    \n",
    "    :param list[tuple[str,float]] names: list of tuples\n",
    "    :param int top: top values to return\n",
    "    \"\"\"\n",
    "    sorted_names = sorted(names, key=lambda x: x[1], reverse=True)\n",
    "    \n",
    "    return sorted_names[0:top]   \n",
    "\n",
    "def _check_empty_cell(cell):\n",
    "    \"\"\"Checks if there are not overlapping pathways\"\"\"\n",
    "        \n",
    "    if not cell:\n",
    "        return ''\n",
    "    \n",
    "    cell = [\n",
    "        '{}|{}'.format(pathway_name, round(similarity, 2))\n",
    "        for pathway_name, similarity in cell\n",
    "    ]\n",
    "    \n",
    "    return '\\n'.join(cell)\n",
    "\n",
    "def create_curation_template_column(similarity_matrix):\n",
    "    \"\"\"Creates the first two columns of the curation template\n",
    "    \n",
    "    :param pandas.DataFrame similarity_matrix: similarity matrix\n",
    "    \"\"\"\n",
    "    \n",
    "    indexes = similarity_matrix.index.tolist()\n",
    "     \n",
    "    curation_template = []   \n",
    "\n",
    "    for reference_pathway, columns in similarity_matrix.iterrows():\n",
    "        \n",
    "        row_overlapping_pathways_from_resource_2 = [\n",
    "            (pathway_from_resource_1, cell)\n",
    "            for pathway_from_resource_1, cell in columns.iteritems()\n",
    "            if cell != 0.0\n",
    "        ]\n",
    "        \n",
    "        # Order pathways by descendent similarity and filter them to the top 10 pathways\n",
    "        overlapping_ordered_pathways = get_top_matches(row_overlapping_pathways_from_resource_2)\n",
    "        \n",
    "        # Future row in the exported excel\n",
    "        curation_template.append(\n",
    "            [_check_empty_cell(overlapping_ordered_pathways)\n",
    "            ]\n",
    "        )\n",
    "    \n",
    "    return pd.DataFrame(curation_template, index=indexes, columns=['Overlapping pathways (%)'])"
   ]
  },
  {
   "cell_type": "markdown",
   "metadata": {
    "collapsed": true
   },
   "source": [
    "KEGG vs Reactome"
   ]
  },
  {
   "cell_type": "code",
   "execution_count": null,
   "metadata": {
    "collapsed": true
   },
   "outputs": [],
   "source": [
    "%%time\n",
    "kegg_vs_reactome_overlap = create_similarity_matrix(kegg_pathways, reactome_pathways)\n",
    "\n",
    "kegg_vs_reactome = create_curation_template_column(kegg_vs_reactome_overlap)\n",
    "\n",
    "kegg_vs_reactome.to_csv('kegg_vs_reactome_content_similarity.csv')"
   ]
  },
  {
   "cell_type": "markdown",
   "metadata": {},
   "source": [
    "KEGG vs WikiPathways"
   ]
  },
  {
   "cell_type": "code",
   "execution_count": null,
   "metadata": {
    "collapsed": true
   },
   "outputs": [],
   "source": [
    "%%time\n",
    "kegg_vs_wikipathways_overlap = create_similarity_matrix(kegg_pathways, wikipathways_pathways)\n",
    "\n",
    "kegg_vs_wikipathways = create_curation_template_column(kegg_vs_wikipathways_overlap)\n",
    "\n",
    "kegg_vs_wikipathways.to_csv('kegg_vs_wikipathways_content_similarity.csv')"
   ]
  },
  {
   "cell_type": "markdown",
   "metadata": {
    "collapsed": true
   },
   "source": [
    "Reactome vs WikiPathways"
   ]
  },
  {
   "cell_type": "code",
   "execution_count": null,
   "metadata": {},
   "outputs": [],
   "source": [
    "%%time\n",
    "wikipathways_pathways_vs_reactome_overlap = create_similarity_matrix(wikipathways_pathways, reactome_pathways)\n",
    "\n",
    "wikipathways_vs_reactome = create_curation_template_column(wikipathways_pathways_vs_reactome_overlap)\n",
    "\n",
    "wikipathways_vs_reactome.to_csv('wikipathways_vs_reactome_content_similarity.csv')"
   ]
  },
  {
   "cell_type": "code",
   "execution_count": null,
   "metadata": {
    "collapsed": true
   },
   "outputs": [],
   "source": []
  },
  {
   "cell_type": "code",
   "execution_count": null,
   "metadata": {
    "collapsed": true
   },
   "outputs": [],
   "source": []
  },
  {
   "cell_type": "code",
   "execution_count": null,
   "metadata": {
    "collapsed": true
   },
   "outputs": [],
   "source": []
  },
  {
   "cell_type": "code",
   "execution_count": null,
   "metadata": {
    "collapsed": true
   },
   "outputs": [],
   "source": []
  }
 ],
 "metadata": {
  "kernelspec": {
   "display_name": "Python 3",
   "language": "python",
   "name": "python3"
  },
  "language_info": {
   "codemirror_mode": {
    "name": "ipython",
    "version": 3
   },
   "file_extension": ".py",
   "mimetype": "text/x-python",
   "name": "python",
   "nbconvert_exporter": "python",
   "pygments_lexer": "ipython3",
   "version": "3.4.5"
  }
 },
 "nbformat": 4,
 "nbformat_minor": 2
}
