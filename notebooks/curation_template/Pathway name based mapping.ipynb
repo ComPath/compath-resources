{
 "cells": [
  {
   "cell_type": "markdown",
   "metadata": {},
   "source": [
    "# ComPath -  Pathway name similarity comparison\n",
    "\n",
    "The goal of this notebook is to calculate the pathway pairs with the highest similarity based of their name. This information is used together with the content similarity to manually map the pathway pairs.\n",
    "\n",
    "#### Author: [Daniel Domingo-Fernández](https://github.com/ddomingof) "
   ]
  },
  {
   "cell_type": "markdown",
   "metadata": {},
   "source": [
    "### Import packages needed"
   ]
  },
  {
   "cell_type": "code",
   "execution_count": null,
   "metadata": {
    "collapsed": true,
    "scrolled": true
   },
   "outputs": [],
   "source": [
    "import time\n",
    "import sys\n",
    "import os\n",
    "\n",
    "import pandas as pd\n",
    "from difflib import SequenceMatcher\n",
    "import itertools as itt\n",
    "\n",
    "from bio2bel_kegg.manager import Manager as KeggManager\n",
    "from bio2bel_reactome.manager import Manager as ReactomeManager\n",
    "from bio2bel_wikipathways.manager import Manager as WikiPathwaysManager"
   ]
  },
  {
   "cell_type": "markdown",
   "metadata": {},
   "source": [
    "### Configuration"
   ]
  },
  {
   "cell_type": "code",
   "execution_count": null,
   "metadata": {
    "scrolled": true
   },
   "outputs": [],
   "source": [
    "time.asctime()"
   ]
  },
  {
   "cell_type": "code",
   "execution_count": null,
   "metadata": {
    "scrolled": true
   },
   "outputs": [],
   "source": [
    "print(sys.version)"
   ]
  },
  {
   "cell_type": "code",
   "execution_count": null,
   "metadata": {
    "collapsed": true,
    "scrolled": true
   },
   "outputs": [],
   "source": [
    "COMPATH_PATH = os.environ['COMPATH']"
   ]
  },
  {
   "cell_type": "markdown",
   "metadata": {
    "collapsed": true
   },
   "source": [
    "### Load resources"
   ]
  },
  {
   "cell_type": "code",
   "execution_count": null,
   "metadata": {
    "scrolled": true
   },
   "outputs": [],
   "source": [
    "\"\"\"KEGG\"\"\"\n",
    "\n",
    "kegg_manager = KeggManager() # Initialize the KEGG Manager\n",
    "\n",
    "# Remove the 'Homo sapiens' out of the KEGG pathways in order to facilitate the string matching\n",
    "kegg_pathways = [\n",
    "    kegg_pathway.name.replace(' - Homo sapiens (human)', '')\n",
    "    for kegg_pathway in kegg_manager.get_all_pathways()\n",
    "] \n",
    "\n",
    "try:\n",
    "    assert (len(kegg_pathways) == 325)\n",
    "except AssertionError as error:\n",
    "    print('The number of pathways in the database {} does not match 325'.format(len(kegg_pathways)))\n",
    "    \n",
    "\"\"\"Reactome\"\"\"\n",
    "reactome_manager = ReactomeManager() # Initialize the Reactome Manager\n",
    "\n",
    "reactome_pathways = [\n",
    "    reactome_pathway.name\n",
    "    for reactome_pathway in reactome_manager.get_all_pathways()\n",
    "    if reactome_pathway.species.name == 'Homo sapiens' # Filter to get only Human Pathways\n",
    "] \n",
    "\n",
    "try:\n",
    "    assert (len(reactome_pathways) == 2171)\n",
    "except AssertionError as error:\n",
    "    print('The number of pathways in the database {} does not match 2171'.format(len(reactome_pathways)))\n",
    "\n",
    "\"\"\"WikiPathways\"\"\"\n",
    "wikipathways_manager = WikiPathwaysManager() # Initialize the WikiPathways Manager\n",
    "\n",
    "wikipathways_pathways = [\n",
    "    wikipathways_pathway.name\n",
    "    for wikipathways_pathway in wikipathways_manager.get_all_pathways()\n",
    "] \n",
    "\n",
    "try:\n",
    "    assert (len(wikipathways_pathways) == 423)\n",
    "except AssertionError as error:\n",
    "    print('The number of pathways in the database {} does not match 423'.format(len(wikipathways_pathways)))\n",
    "    "
   ]
  },
  {
   "cell_type": "markdown",
   "metadata": {},
   "source": [
    "### Pathway mapping based on name similarity"
   ]
  },
  {
   "cell_type": "code",
   "execution_count": null,
   "metadata": {
    "scrolled": true
   },
   "outputs": [],
   "source": [
    "pathway_databases = ['KEGG', 'Reactome','WikiPathways']\n",
    "\n",
    "for pathway_database_1, pathway_database2 in itt.combinations(pathway_databases, 2):\n",
    "    print(\"{} vs {}\".format(pathway_database_1, pathway_database2))"
   ]
  },
  {
   "cell_type": "code",
   "execution_count": null,
   "metadata": {
    "collapsed": true,
    "scrolled": true
   },
   "outputs": [],
   "source": [
    "def calculate_similarity(name_1, name_2):\n",
    "    \"\"\"Calculates the string based similarity between two names\n",
    "    \n",
    "    :param str name_1: name 1\n",
    "    :param str name_2: name 2\n",
    "    :rtype: float\n",
    "    :return: Levenshtein similarity\n",
    "    \"\"\"\n",
    "    return SequenceMatcher(None, name_1, name_2).ratio()\n",
    "\n",
    "def get_top_matches(names, top=5):\n",
    "    \"\"\"Orders list of tuples by second value and returns top values\n",
    "    \n",
    "    :param list[tuple[str,float]] names: list of tuples\n",
    "    :param int top: top values to return\n",
    "    \"\"\"\n",
    "    sorted_names = sorted(names, key=lambda x: x[1], reverse=True)\n",
    "    \n",
    "    return sorted_names[0:top]   \n",
    "\n",
    "def filter_results(results, threshold=0.6):\n",
    "    \"\"\"Only present results with high similarity\n",
    "    \n",
    "    :param list[tuple[str,float]] results: list of tuples\n",
    "    :param threhsold threshold: threhsolding\n",
    "    \"\"\"\n",
    "    return [\n",
    "        (name, value)\n",
    "        for name, value in results\n",
    "        if value > threshold\n",
    "    ]\n",
    "    \n",
    "def create_template(pathways_1, pathways_2, top=5):\n",
    "    \"\"\"Create the column of name similarity in the curation template\n",
    "    \n",
    "    :param list pathways_1: pathway list from resource 1\n",
    "    :param list pathways_2: pathway list from resource 2\n",
    "    :param int top: number of most similar pathways added to the column\n",
    "    \"\"\"\n",
    "    \n",
    "    # Order alphabetically to keep the same order as other comparisons\n",
    "    pathways_1 = sorted(pathways_1)\n",
    "    pathways_2 = sorted(pathways_2)\n",
    "    \n",
    "    curation_template = []\n",
    "\n",
    "    for pathway_1 in pathways_1:\n",
    "        \n",
    "        similarities_with_pathways_2 = [\n",
    "            (pathway_2, calculate_similarity(pathway_1, pathway_2))\n",
    "            for pathway_2 in pathways_2\n",
    "        ]\n",
    "        \n",
    "        # Order pathways by descendent similarity\n",
    "        top_pathways = get_top_matches(similarities_with_pathways_2)\n",
    "        \n",
    "\n",
    "        # Future row in the exported excel. Note that names with a similarity lower than 0.6 are filtered\n",
    "        curation_template.append(\n",
    "            ['\\n'.join([name for name, similarity in filter_results(top_pathways)])\n",
    "            ]\n",
    "        )\n",
    "    \n",
    "    return pd.DataFrame(curation_template, index=pathways_1, columns=['Top {} pathways according to string similarity'.format(top)])      \n"
   ]
  },
  {
   "cell_type": "markdown",
   "metadata": {},
   "source": [
    "KEGG vs Reactome"
   ]
  },
  {
   "cell_type": "code",
   "execution_count": null,
   "metadata": {
    "scrolled": true
   },
   "outputs": [],
   "source": [
    "%%time\n",
    "kegg_vs_reactome = create_template(kegg_pathways, reactome_pathways)\n",
    "\n",
    "kegg_vs_reactome.to_csv('kegg_vs_reactome_string_similarity.csv')"
   ]
  },
  {
   "cell_type": "markdown",
   "metadata": {},
   "source": [
    "KEGG vs WikiPathways"
   ]
  },
  {
   "cell_type": "code",
   "execution_count": null,
   "metadata": {
    "scrolled": true
   },
   "outputs": [],
   "source": [
    "%%time\n",
    "kegg_vs_wikipathways = create_template(kegg_pathways, wikipathways_pathways)\n",
    "\n",
    "kegg_vs_wikipathways.to_csv('kegg_vs_wikipathways_string_similarity.csv')"
   ]
  },
  {
   "cell_type": "markdown",
   "metadata": {},
   "source": [
    "WikiPathways vs Reactome"
   ]
  },
  {
   "cell_type": "code",
   "execution_count": null,
   "metadata": {
    "scrolled": false
   },
   "outputs": [],
   "source": [
    "%%time\n",
    "wikipathways_vs_reactome = create_template(wikipathways_pathways, reactome_pathways)\n",
    "\n",
    "wikipathways_vs_reactome.to_csv('wikipathways_vs_reactome_string_similarity.csv')"
   ]
  },
  {
   "cell_type": "code",
   "execution_count": null,
   "metadata": {
    "collapsed": true,
    "scrolled": true
   },
   "outputs": [],
   "source": []
  },
  {
   "cell_type": "code",
   "execution_count": null,
   "metadata": {
    "collapsed": true,
    "scrolled": true
   },
   "outputs": [],
   "source": []
  }
 ],
 "metadata": {
  "kernelspec": {
   "display_name": "Python 3",
   "language": "python",
   "name": "python3"
  },
  "language_info": {
   "codemirror_mode": {
    "name": "ipython",
    "version": 3
   },
   "file_extension": ".py",
   "mimetype": "text/x-python",
   "name": "python",
   "nbconvert_exporter": "python",
   "pygments_lexer": "ipython3",
   "version": "3.4.5"
  }
 },
 "nbformat": 4,
 "nbformat_minor": 2
}
