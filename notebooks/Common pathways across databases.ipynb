{
 "cells": [
  {
   "cell_type": "markdown",
   "metadata": {},
   "source": [
    "# Common pathways across databases\n",
    "\n",
    "This notebook elucidates the shared pathways (equivalent) between KEGG, Reactome, and WikiPathways."
   ]
  },
  {
   "cell_type": "code",
   "execution_count": 1,
   "metadata": {},
   "outputs": [],
   "source": [
    "import os\n",
    "import numpy as np\n",
    "import pandas as pd\n",
    "from bio2bel_kegg.manager import Manager as KeggManager\n",
    "from bio2bel_wikipathways.manager import Manager as WikiPathwaysManager\n",
    "from bio2bel_reactome.manager import Manager as ReactomeManager\n",
    "\n",
    "from collections import Counter\n",
    "import matplotlib.pyplot as plt\n",
    "\n",
    "from matplotlib_venn import venn3"
   ]
  },
  {
   "cell_type": "code",
   "execution_count": 2,
   "metadata": {},
   "outputs": [],
   "source": [
    "%matplotlib inline"
   ]
  },
  {
   "cell_type": "markdown",
   "metadata": {},
   "source": [
    "Load Established Mappings"
   ]
  },
  {
   "cell_type": "code",
   "execution_count": 3,
   "metadata": {},
   "outputs": [],
   "source": [
    "kegg_wikipathways_df = pd.read_excel(\n",
    "    'https://github.com/ComPath/curation/raw/master/mappings/kegg_wikipathways.xlsx',\n",
    "    index_col=0\n",
    ")\n",
    "kegg_reactome_df = pd.read_excel(\n",
    "    'https://github.com/ComPath/curation/raw/master/mappings/kegg_reactome.xlsx',\n",
    "    index_col=0\n",
    ")\n",
    "wikipathways_reactome_df = pd.read_excel(\n",
    "    'https://github.com/ComPath/curation/raw/master/mappings/wikipathways_reactome.xlsx',\n",
    "    index_col=0\n",
    ")"
   ]
  },
  {
   "cell_type": "markdown",
   "metadata": {},
   "source": [
    "Call the Database Managers to query gene sets"
   ]
  },
  {
   "cell_type": "code",
   "execution_count": 4,
   "metadata": {},
   "outputs": [],
   "source": [
    "kegg_manager = KeggManager()\n",
    "wikipathways_manager = WikiPathwaysManager()\n",
    "reactome_manager = ReactomeManager()"
   ]
  },
  {
   "cell_type": "markdown",
   "metadata": {},
   "source": [
    "Methods to extract and process mappings"
   ]
  },
  {
   "cell_type": "code",
   "execution_count": 5,
   "metadata": {},
   "outputs": [],
   "source": [
    "def get_pathway_ids(manager, names):\n",
    "    \"\"\"Return the set of pathway ids given their names and the manager.\n",
    "    \n",
    "    :param manager: manager database\n",
    "    :param list[str] names: pathway names\n",
    "    :rtype: list\n",
    "    \"\"\"\n",
    "    pathway_ids= set()\n",
    "    \n",
    "    for name in names:\n",
    "        \n",
    "        pathway = manager.get_pathway_by_name(name)\n",
    "        \n",
    "        if pathway is None:\n",
    "            raise ValueError(\"Not Valid Pathway Name: {}\".format(name))\n",
    "        \n",
    "        pathway_ids.add(pathway.resource_id)\n",
    "        \n",
    "    return pathway_ids\n",
    "\n",
    "def get_pathway_names(manager, ids):\n",
    "    \"\"\"Return the set of pathway names given their ids and the manager.\n",
    "    \n",
    "    :param manager: manager database\n",
    "    :param list[str] names: pathway ids\n",
    "    :rtype: list\n",
    "    \"\"\"\n",
    "    return [\n",
    "        manager.get_pathway_by_id(identifier).name\n",
    "        for identifier in ids\n",
    "    ]\n",
    "\n",
    "def get_pathway_models(reference_manager, compared_manager, pathway_1_name, pathway_2_name):\n",
    "    \"\"\"Return the pathway models from their correspondent managers.\n",
    "    \n",
    "    :rtype: tuple(Pathway, Pathway)\n",
    "    \"\"\"\n",
    "    pathway_1 = reference_manager.get_pathway_by_name(pathway_1_name)\n",
    "    \n",
    "    pathway_2 = compared_manager.get_pathway_by_name(pathway_2_name)\n",
    "    \n",
    "    if pathway_1 is None:\n",
    "        raise ValueError(\"Not Valid Pathway Name: {}\".format(pathway_1_name))\n",
    "        \n",
    "    if pathway_2 is None:\n",
    "        raise ValueError(\"Not Valid Pathway Name: {}\".format(pathway_2_name))\n",
    "        \n",
    "    return pathway_1, pathway_2\n",
    "   \n",
    "def get_pathways_from_statement(mapping_statement, mapping_type):\n",
    "    \"\"\"Return the subject, object of the mapping.\n",
    "    \n",
    "    :param str mapping_statement: statement\n",
    "    :param str mapping_type: type of relationship\n",
    "    :rtype: tuple[str,str]\n",
    "    \"\"\"\n",
    "    _pathways = mapping_statement.split(mapping_type)\n",
    "        \n",
    "    return _pathways[0].strip(), _pathways[1].strip()\n",
    "\n",
    "\n",
    "def remove_star_from_pathway_name(pathway_name):\n",
    "    \"\"\"Remove the star that label the reference pathway in isPartOf statements.\n",
    "    \n",
    "    :param str statements: pathway name\n",
    "    \"\"\"\n",
    "    return pathway_name.replace(\"*\", \"\").strip()\n",
    "\n",
    "    \n",
    "def get_pathways_from_is_part_of_mapping(mapping_statement):\n",
    "    \"\"\"Return the pathways of a hierarchical mapping.\"\"\"\n",
    "\n",
    "    pathway_1, pathway_2 = get_pathways_from_statement(mapping_statement, 'isPartOf')\n",
    "\n",
    "    if \"*\" in pathway_1:\n",
    "\n",
    "        pathway_1 = remove_star_from_pathway_name(pathway_1)\n",
    "        return pathway_1, pathway_2\n",
    "\n",
    "\n",
    "    else:\n",
    "        pathway_2 = remove_star_from_pathway_name(pathway_2)\n",
    "        return pathway_2, pathway_1\n",
    "\n",
    "\n",
    "def parse_equivalent_to(df, reference_manager, compared_manager):\n",
    "    \"\"\"Parse the column corresponding to equivalentTo mappings in the excel sheet.\n",
    "    \n",
    "    :returns: list of overlaps and name of pathways with equivalentTo mappings\n",
    "    :rtype: tuple(set, set, list)\n",
    "    \"\"\"\n",
    "    \n",
    "    equivalent_names = set()\n",
    "    equivalent_ids = set()\n",
    "    \n",
    "    reference_names = []\n",
    "        \n",
    "    for index, row in df.iterrows(): \n",
    "        \n",
    "        reference_names.append(index)\n",
    "        \n",
    "        equivalent_to_mappings = row['equivalentTo Mappings']\n",
    "\n",
    "        if pd.isnull(equivalent_to_mappings):\n",
    "            continue\n",
    "\n",
    "        for mapping_statement in equivalent_to_mappings.split(\"\\n\"):\n",
    "            \n",
    "            if mapping_statement == '':\n",
    "                continue\n",
    "            \n",
    "            reference_pathway, compared_pathway = get_pathways_from_statement(mapping_statement, \"equivalentTo\")\n",
    "          \n",
    "            pathway_1, pathway_2 = get_pathway_models(reference_manager, compared_manager, reference_pathway, compared_pathway)\n",
    "            \n",
    "            equivalent_ids.add((pathway_1.resource_id, pathway_2.resource_id))  \n",
    "            \n",
    "            equivalent_names.add((pathway_1.name, pathway_2.name)) \n",
    "\n",
    "    return equivalent_names, equivalent_ids, reference_names\n"
   ]
  },
  {
   "cell_type": "markdown",
   "metadata": {},
   "source": [
    "### Overview of shared pathways across databases\n"
   ]
  },
  {
   "cell_type": "code",
   "execution_count": 6,
   "metadata": {},
   "outputs": [
    {
     "name": "stdout",
     "output_type": "stream",
     "text": [
      "############### KEGG vs WikiPathways #################\n",
      "\n",
      "############### KEGG vs Reactome #################\n",
      "\n",
      "############### WikiPathways vs Reactome #################\n",
      "\n"
     ]
    }
   ],
   "source": [
    "print(\"############### KEGG vs WikiPathways #################\\n\")\n",
    "\n",
    "kegg_wikipathways_names, kegg_wikipathways_ids, kegg_names_excel = parse_equivalent_to(\n",
    "    kegg_wikipathways_df,\n",
    "    kegg_manager,\n",
    "    wikipathways_manager\n",
    ")\n",
    "\n",
    "print(\"############### KEGG vs Reactome #################\\n\")\n",
    "\n",
    "kegg_reactome_names, kegg_reactome_ids, kegg_names_excel = parse_equivalent_to(\n",
    "    kegg_reactome_df,\n",
    "    kegg_manager,\n",
    "    reactome_manager\n",
    ")\n",
    "\n",
    "print(\"############### WikiPathways vs Reactome #################\\n\")\n",
    "\n",
    "wikipathways_reactome_names, wikipathways_reactome_ids, wikipathways_names_excel = parse_equivalent_to(\n",
    "    wikipathways_reactome_df,\n",
    "    wikipathways_manager,\n",
    "    reactome_manager\n",
    ")\n",
    "\n",
    "# Number of pathway names must be equal to ids\n",
    "assert len(kegg_wikipathways_names),len(kegg_wikipathways_ids)\n",
    "assert len(kegg_reactome_names),len(kegg_reactome_ids)\n",
    "assert len(wikipathways_reactome_names),len(wikipathways_reactome_ids)\n"
   ]
  },
  {
   "cell_type": "markdown",
   "metadata": {},
   "source": [
    "## Pathway consistency across databases"
   ]
  },
  {
   "cell_type": "markdown",
   "metadata": {},
   "source": [
    "Get the universe of pathways for each database"
   ]
  },
  {
   "cell_type": "code",
   "execution_count": 7,
   "metadata": {},
   "outputs": [],
   "source": [
    "kegg_names = kegg_names_excel\n",
    "reactome_names = reactome_manager.get_all_pathway_names() # Get all reactome names\n",
    "wikipathways_names = wikipathways_names_excel\n",
    "\n",
    "kegg_ids = get_pathway_ids(kegg_manager, kegg_names)\n",
    "reactome_ids = get_pathway_ids(reactome_manager, reactome_names)\n",
    "wikipathways_ids = get_pathway_ids(wikipathways_manager, wikipathways_names)\n",
    "\n",
    "# Number of pathway names must be equal to ids\n",
    "assert len(kegg_names),len(kegg_ids)\n",
    "assert len(reactome_names),len(reactome_ids)\n",
    "assert len(wikipathways_names),len(wikipathways_ids)\n",
    "\n",
    "assert len(kegg_names),325 # rows in the excel\n",
    "assert len(wikipathways_names),420 #rows in the excel\n"
   ]
  },
  {
   "cell_type": "code",
   "execution_count": 8,
   "metadata": {},
   "outputs": [],
   "source": [
    "def get_pathways_without_mappings(all_pathways_ids, mappings_1, mappings_2):\n",
    "    \"\"\"Return pathways without mappings.\"\"\"\n",
    "    return {\n",
    "        pathway_id\n",
    "        for pathway_id in all_pathways_ids\n",
    "        if pathway_id not in mappings_1 and pathway_id not in mappings_2\n",
    "    }\n",
    "\n",
    "def filter_sets(in_set, not_in_set):\n",
    "    \"\"\"Return elements that are in set 1 but not in set 2.\"\"\"\n",
    "    return {\n",
    "        element\n",
    "        for element in in_set\n",
    "        if element not in not_in_set\n",
    "    }\n",
    "    "
   ]
  },
  {
   "cell_type": "code",
   "execution_count": 9,
   "metadata": {},
   "outputs": [
    {
     "name": "stdout",
     "output_type": "stream",
     "text": [
      "Total KEGG pathways: 325\n",
      "Total Reactome pathways: 2162\n",
      "Total WikiPathways pathways: 420\n",
      "\n",
      "Total KEGG ∩ WikiPathways: 56\n",
      "Total KEGG ∩ Reactome: 59\n",
      "Total WikiPathways ∩ Reactome: 64\n",
      "\n"
     ]
    }
   ],
   "source": [
    "print('Total KEGG pathways: {}'.format(len(kegg_ids)))\n",
    "print('Total Reactome pathways: {}'.format(len(reactome_ids)))\n",
    "print('Total WikiPathways pathways: {}\\n'.format(len(wikipathways_ids)))\n",
    "\n",
    "print('Total KEGG ∩ WikiPathways: {}'.format(len(kegg_wikipathways_ids)))\n",
    "print('Total KEGG ∩ Reactome: {}'.format(len(kegg_reactome_ids)))\n",
    "print('Total WikiPathways ∩ Reactome: {}\\n'.format(len(wikipathways_reactome_ids)))"
   ]
  },
  {
   "cell_type": "code",
   "execution_count": 12,
   "metadata": {},
   "outputs": [
    {
     "data": {
      "image/png": "[encoded data removed]",
      "text/plain": [
       "<matplotlib.figure.Figure at 0x7fd603441e48>"
      ]
     },
     "metadata": {},
     "output_type": "display_data"
    }
   ],
   "source": [
    "plt.figure(figsize=(10, 10))\n",
    "diagram = venn3(\n",
    "    subsets = (235, 2101, 37, 325, 31, 40, 21),\n",
    "    set_labels = (\"KEGG\", \"Reactome\", \"WikiPathways\")\n",
    ")\n",
    "for text in diagram.set_labels:\n",
    "    text.set_fontsize(28)\n",
    "for text in diagram.subset_labels:\n",
    "    text.set_fontsize(16)\n",
    "\n",
    "\n",
    "diagram.get_patch_by_id('001').set_color('#2faeb7') #WikiPathways\n",
    "diagram.get_patch_by_id('001').set_alpha(1.0)\n",
    "diagram.get_patch_by_id('010').set_color('#f3ac1f')\n",
    "diagram.get_patch_by_id('010').set_alpha(1.0)\n",
    "diagram.get_patch_by_id('011').set_color('#a1b401')\n",
    "diagram.get_patch_by_id('011').set_alpha(1.0)\n",
    "diagram.get_patch_by_id('100').set_color('#df3f18')\n",
    "diagram.get_patch_by_id('100').set_alpha(1.0)\n",
    "diagram.get_patch_by_id('110').set_color('#2999cb')\n",
    "diagram.get_patch_by_id('110').set_alpha(1.0)\n",
    "diagram.get_patch_by_id('111').set_color('#ffffff')\n",
    "diagram.get_patch_by_id('111').set_alpha(1.0)\n",
    "diagram.get_patch_by_id('101').set_color('#55595c')\n",
    "diagram.get_patch_by_id('101').set_alpha(1.0)\n",
    "    \n",
    "plt.show()"
   ]
  },
  {
   "cell_type": "markdown",
   "metadata": {},
   "source": [
    "__Venn diagram representing the equivalent pathways between the three pathway databases.__ Note that the sum of the overlapping circles do not match the total number of mappings between databases *(e.g., KEGG-WikiPathways mappings are 56 but the sum of the two circles are 31+21=52*). This is due to the duplicate pathways in databases that are mapped to a single equivalent pathway in other database. These special mappings are stored [here](https://github.com/ComPath/curation/raw/master/mappings/special_mappings.xlsx). The full list of the core pathways that are present in all pathway databases can be found below."
   ]
  },
  {
   "cell_type": "markdown",
   "metadata": {
    "collapsed": true
   },
   "source": [
    "# List of pathways present in all three databases\n",
    "\n",
    "KEGG | Reactome | WikiPathways\n",
    "---- |----------|-------------\n",
    "[Mismatch repair - Homo sapiens (human)](http://www.genome.jp/kegg-bin/show_pathway?hsa03430)  | [Mismatch Repair](https://reactome.org/content/detail/R-HSA-5358508) | [Mismatch repair](https://www.wikipathways.org/index.php/Pathway:WP3381)\n",
    "[Thyroid hormone synthesis - Homo sapiens (human)](http://www.genome.jp/kegg-bin/show_pathway?map=hsa04918&show_description=show)  | [Thyroxine biosynthesis](http://www.reactome.org/content/detail/R-DDI-209968) | [Thyroxine (Thyroid Hormone) Production](https://www.wikipathways.org/index.php/Pathway:WP1981)\n",
    "[Wnt signaling pathway - Homo sapiens (human)](http://www.genome.jp/kegg-bin/show_pathway?hsa04310)  | [Signaling by WNT](https://reactome.org/content/detail/R-HSA-195721) | [Wnt Signaling Pathway](https://www.wikipathways.org/index.php/Pathway:WP363)\n",
    "[MAPK signaling pathway - Homo sapiens (human)](http://www.genome.jp/kegg/pathway/hsa/hsa04010.html)  | [MAPK family signaling cascades](https://reactome.org/content/detail/R-HSA-5683057) | [MAPK Signaling Pathway](https://www.wikipathways.org/index.php/Pathway:WP382)\n",
    "[Pentose phosphate pathway - Homo sapiens (human)](http://www.genome.jp/kegg-bin/show_pathway?hsa00030)  | [Pentose phosphate pathway (hexose monophosphate shunt)](http://www.reactome.org/content/detail/R-HSA-71336) | [Pentose Phosphate Pathway](https://www.wikipathways.org/index.php/Pathway:WP134)\n",
    "[PI3K-Akt signaling pathway - Homo sapiens (human)](http://www.genome.jp/kegg-bin/show_pathway?hsa04151)  | [PI3K/AKT activation](https://reactome.org/content/detail/R-RNO-198203) | [PI3K-Akt Signaling Pathway](https://www.wikipathways.org/index.php/Pathway:WP4172)\n",
    "[Toll-like receptor signaling pathway - Homo sapiens (human)](http://www.genome.jp/kegg-bin/show_pathway?hsa04620)  | [Toll-Like Receptors Cascades](https://reactome.org/content/detail/R-HSA-168898)| [Toll-like Receptor Signaling Pathway](https://www.wikipathways.org/index.php/Pathway:WP75)\n",
    "[B cell receptor signaling pathway - Homo sapiens (human)](http://www.genome.jp/kegg-bin/show_pathway?hsa04662)  | [B Cell Receptor Signaling Pathway](https://www.wikipathways.org/index.php/Pathway:WP23)| [Signaling by the B Cell Receptor (BCR)](https://reactome.org/content/detail/R-HSA-983705)\n",
    "[Notch signaling pathway - Homo sapiens (human)](http://www.genome.jp/kegg-bin/show_pathway?hsa04330)  | [Signaling by NOTCH](https://reactome.org/content/detail/R-HSA-157118) | [Notch Signaling Pathway](https://www.wikipathways.org/index.php/Pathway:WP268)\n",
    "[Apoptosis - Homo sapiens (human)](http://www.genome.jp/kegg/pathway/hsa/hsa04210.html)  | [Apoptosis](http://www.reactome.org/content/detail/R-CEL-109581) | [Apoptosis](link)\n",
    "[Sphingolipid metabolism - Homo sapiens (human)](http://www.genome.jp/kegg-bin/show_pathway?hsa00600)  | [Sphingolipid metabolism](https://reactome.org/content/detail/R-DDI-428157) | [Sphingolipid Metabolism](https://www.wikipathways.org/index.php/Pathway:WP2788)\n",
    "[Hedgehog signaling pathway - Homo sapiens (human)](http://www.genome.jp/kegg-bin/show_pathway?hsa04340)  | [Signaling by Hedgehog](http://www.reactome.org/content/detail/R-HSA-5358351) | [Hedgehog Signaling Pathway](https://www.wikipathways.org/index.php/Pathway:WP47)\n",
    "[Citrate cycle (TCA cycle) - Homo sapiens (human)](http://www.genome.jp/kegg-bin/show_pathway?hsa00020)  | [Citric acid cycle (TCA cycle)](http://www.reactome.org/content/detail/R-HSA-71403) | [TCA Cycle](https://www.wikipathways.org/index.php/Pathway:WP78)\n",
    "[DNA replication - Homo sapiens (human)](http://www.genome.jp/kegg-bin/show_pathway?hsa03030)  | [DNA Replication](https://reactome.org/content/detail/R-HSA-69306) | [DNA Replication](https://www.wikipathways.org/index.php/Pathway:WP466)\n",
    "[Non-homologous end-joining - Homo sapiens (human)](http://www.kegg.jp/kegg-bin/show_pathway?hsa03450)  | [Nonhomologous End-Joining (NHEJ)](http://www.reactome.org/content/detail/R-HSA-5693571.1) | [Non-homologous end joining](https://www.wikipathways.org/index.php/Pathway:WP438)\n",
    "[Cell cycle - Homo sapiens (human)](http://www.genome.jp/kegg-bin/show_pathway?hsa04110)  | [Cell Cycle](https://reactome.org/content/detail/R-HSA-1640170) | [Cell Cycle](https://www.wikipathways.org/index.php/Pathway:WP179)\n",
    "[TGF-beta signaling pathway - Homo sapiens (human)](http://www.genome.jp/kegg-bin/show_pathway?hsa04350)  | [Signaling by TGF-beta family members](http://www.reactome.org/content/detail/R-HSA-9006936) | [TGF-beta Signaling Pathway](https://www.wikipathways.org/index.php/Pathway:WP366)\n",
    "[mTOR signaling pathway - Homo sapiens (human)](http://www.genome.jp/kegg-bin/show_pathway?hsa04150)  | [mTOR signalling](https://reactome.org/content/detail/R-HSA-165159) | [Target Of Rapamycin (TOR) Signaling](https://www.wikipathways.org/index.php/Pathway:WP1575)\n",
    "[IL-17 signaling pathway - Homo sapiens (human)](http://www.genome.jp/kegg-bin/show_pathway?map=hsa04657&show_description=show)  | [Interleukin-17 signaling](https://reactome.org/content/detail/R-HSA-448424) | [IL17 signaling pathway](https://www.wikipathways.org/index.php/Pathway:WP2112)\n",
    "[Synthesis and degradation of ketone bodies - Homo sapiens (human)](http://www.genome.jp/kegg-bin/show_pathway?hsa00072)  | [Ketone body metabolism](http://reactome.org/content/detail/R-HSA-74182) | [Synthesis and Degradation of Ketone Bodies](https://www.wikipathways.org/index.php/Pathway:WP311)\n",
    "[Prolactin signaling pathway - Homo sapiens (human)](http://www.genome.jp/kegg-bin/show_pathway?hsa04917)  | [Prolactin receptor signaling](https://reactome.org/content/detail/1170546) | [Prolactin receptor signaling](https://www.wikipathways.org/index.php/Pathway:WP2678)"
   ]
  }
 ],
 "metadata": {
  "kernelspec": {
   "display_name": "Python 3",
   "language": "python",
   "name": "python3"
  },
  "language_info": {
   "codemirror_mode": {
    "name": "ipython",
    "version": 3
   },
   "file_extension": ".py",
   "mimetype": "text/x-python",
   "name": "python",
   "nbconvert_exporter": "python",
   "pygments_lexer": "ipython3",
   "version": "3.6.5"
  }
 },
 "nbformat": 4,
 "nbformat_minor": 2
}
