{
 "cells": [
  {
   "cell_type": "markdown",
   "metadata": {},
   "source": [
    "# Gene Centric Coverage of Pathway Databases \n",
    "\n",
    "This notebook explores the core of genes that are part of three of the major pathway databases (KEGG, Reactome, and WikiPathways)\n",
    "\n",
    "__Summary:__ _A core of aproximately 3800 genes (core gene set) are shared between KEGG, Reactome, and WikiPathways. In other words, most of the genes are shared between these pathway databases (see Fig. 1). The majority of pathways are covered by the genes shared between the three databases (at least by one gene) (see Fig. 2). Finally, conducting a pathway enrichment using different threshold (minimum number of genes are required to enriched the pathway) to observe how the relative coverage of pathways varies (see Fig. 3)._\n",
    "\n",
    "Author: [Daniel Domingo-Fernández](https://github.com/ddomingof)"
   ]
  },
  {
   "cell_type": "code",
   "execution_count": null,
   "metadata": {
    "pycharm": {
     "is_executing": false
    }
   },
   "outputs": [],
   "source": [
    "from collections import Counter\n",
    "import itertools as itt\n",
    "import matplotlib.pyplot as plt\n",
    "import matplotlib as mpl\n",
    "\n",
    "from bio2bel_kegg.manager import Manager as KeggManager\n",
    "from bio2bel_wikipathways.manager import Manager as WikiPathwaysManager\n",
    "from bio2bel_reactome.manager import Manager as ReactomeManager\n",
    "from bio2bel_hgnc.manager import Manager as HGNCManager"
   ]
  },
  {
   "cell_type": "code",
   "execution_count": null,
   "metadata": {
    "pycharm": {
     "is_executing": false
    }
   },
   "outputs": [],
   "source": [
    "%matplotlib inline"
   ]
  },
  {
   "cell_type": "markdown",
   "metadata": {},
   "source": [
    "Function to render the graphics"
   ]
  },
  {
   "cell_type": "code",
   "execution_count": null,
   "metadata": {
    "pycharm": {
     "is_executing": false
    }
   },
   "outputs": [],
   "source": [
    "def plot_enriched_pathways(title, kegg, reactome, wikipathways):\n",
    "    \n",
    "    # Pie chart\n",
    "    labels = ['Enriched', 'Not enriched']\n",
    "\n",
    "    #colors\n",
    "    colors = ['#66b3ff','#ff9999']\n",
    "    \n",
    "    fig = plt.figure(figsize=(25, 6))\n",
    "    \n",
    "    fig.suptitle(title)\n",
    "\n",
    "    ax1 = fig.add_subplot(1, 3, 1)\n",
    "    \n",
    "    mpl.rcParams['font.size'] = 16\n",
    "\n",
    "    ax1.pie(kegg, colors = colors, labels=labels, autopct='%1.1f%%', startangle=90)\n",
    "    ax1.set_title('KEGG', fontsize=20)\n",
    "    #draw circle\n",
    "    centre_circle = plt.Circle((0,0),0.70,fc='white')\n",
    "    fig = plt.gcf()\n",
    "    fig.gca().add_artist(centre_circle)\n",
    "    # Equal aspect ratio ensures that pie is drawn as a circle\n",
    "    ax1.axis('equal')  \n",
    "\n",
    "    ax_2 = fig.add_subplot(1, 3, 2)\n",
    "\n",
    "    ax_2.pie(reactome, colors = colors, labels=labels, autopct='%1.1f%%', startangle=90)\n",
    "    ax_2.set_title('Reactome', fontsize=18)\n",
    "    #draw circle\n",
    "    centre_circle = plt.Circle((0,0),0.70,fc='white')\n",
    "    fig = plt.gcf()\n",
    "    fig.gca().add_artist(centre_circle)\n",
    "    # Equal aspect ratio ensures that pie is drawn as a circle\n",
    "    ax_2.axis('equal')  \n",
    "\n",
    "    ax_3 = fig.add_subplot(1, 3, 3)\n",
    "\n",
    "    ax_3.pie(wikipathways, colors = colors, labels=labels, autopct='%1.1f%%', startangle=90)\n",
    "    ax_3.set_title('WikiPathways', fontsize=18)\n",
    "    #draw circle\n",
    "    centre_circle = plt.Circle((0,0),0.70,fc='white')\n",
    "    fig = plt.gcf()\n",
    "    fig.gca().add_artist(centre_circle)\n",
    "    # Equal aspect ratio ensures that pie is drawn as a circle\n",
    "    ax_3.axis('equal')  \n",
    "    \n",
    "    \n",
    "def apply_filter(results, threshold):\n",
    "    \n",
    "    filtered_results = {}\n",
    "\n",
    "    for database_name, pathways in results.items():\n",
    "    \n",
    "        pathways_pass_filter = []\n",
    "\n",
    "        for pathway_name, genes_mapped in pathways.items():\n",
    "\n",
    "            if genes_mapped < threshold:\n",
    "                continue\n",
    "\n",
    "            pathways_pass_filter.append(pathway_name)\n",
    "\n",
    "        filtered_results[database_name] = pathways_pass_filter\n",
    "        \n",
    "    return filtered_results\n",
    "\n",
    "\n",
    "def calculate_relative_enrichment(results, total_keggs, total_reactomes, total_wikipathways):\n",
    "    \n",
    "    number_of_kegg_enriched_with_filter = len(results['kegg'])\n",
    "    number_of_reactome_enriched_with_filter = len(results['reactome'])\n",
    "    number_of_wikipathways_enriched_with_filter = len(results['wikipathways'])\n",
    "\n",
    "    kegg_coverage = number_of_kegg_enriched_with_filter/total_keggs # KEGG \n",
    "    reactome_coverage = number_of_reactome_enriched_with_filter/total_reactomes #Reactome\n",
    "    wikipathways_coverage = number_of_wikipathways_enriched_with_filter/total_wikipathways #WikiPathways\n",
    "\n",
    "    return kegg_coverage, reactome_coverage, wikipathways_coverage"
   ]
  },
  {
   "cell_type": "markdown",
   "metadata": {},
   "source": [
    "Instantiate all the pathway database managers"
   ]
  },
  {
   "cell_type": "code",
   "execution_count": null,
   "metadata": {
    "pycharm": {
     "is_executing": false
    }
   },
   "outputs": [],
   "source": [
    "kegg_manager = KeggManager()\n",
    "wikipathways_manager = WikiPathwaysManager()\n",
    "reactome_manager = ReactomeManager()\n",
    "hgnc_manager = HGNCManager()\n",
    "\n",
    "managers = [kegg_manager, wikipathways_manager, reactome_manager]"
   ]
  },
  {
   "cell_type": "markdown",
   "metadata": {},
   "source": [
    "Get gene symbols present in each database and common core present in all"
   ]
  },
  {
   "cell_type": "code",
   "execution_count": null,
   "metadata": {
    "pycharm": {
     "is_executing": false
    }
   },
   "outputs": [],
   "source": [
    "kegg_genes = kegg_manager.get_all_hgnc_symbols()\n",
    "wikipathways_genes = wikipathways_manager.get_all_hgnc_symbols()\n",
    "reactome_genes = reactome_manager.get_all_hgnc_symbols()\n",
    "\n",
    "gene_universe = hgnc_manager.get_all_hgnc_symbols()\n",
    "\n",
    "print('{} contains {} genes'.format('HGNC', len(gene_universe)))\n",
    "print('{} contains {} genes'.format('KEGG', len(kegg_genes)))\n",
    "print('{} contains {} genes'.format('WikiPathways', len(wikipathways_genes)))\n",
    "print('{} contains {} genes\\n'.format('Reactome', len(reactome_genes)))\n",
    "\n",
    "common_genes = kegg_genes.intersection(wikipathways_genes).intersection(reactome_genes)\n",
    "print('{} genes between KEGG, Reactome, and WikiPathways'.format(len(common_genes)))"
   ]
  },
  {
   "cell_type": "markdown",
   "metadata": {},
   "source": [
    "### Gene-centric coverage of KEGG, Reactome, and WikiPathways compared to the HGNC gene symbol catalog (Gene Universe)"
   ]
  },
  {
   "cell_type": "markdown",
   "metadata": {},
   "source": [
    "<img src=\"img/genetic_coverage.png\" alt=\"Coverage Databases of the genetic knowledge\" style=\"width: 400px;\">"
   ]
  },
  {
   "cell_type": "markdown",
   "metadata": {},
   "source": [
    "__Figure 1. Venn diagram of the gene-centric coverage of the three pathway databases studied compared to the HGNC symbol catalog.__ A core set of aproximately 3800 genes is part of all databases. Next, we proceed to study which pathways contain these common gene set."
   ]
  },
  {
   "cell_type": "markdown",
   "metadata": {},
   "source": [
    "### Explore which pathways are enriched with the core of genes present in all databases\n",
    "\n",
    "Next, we explore the coverage of pathways using this core gene set as a probe."
   ]
  },
  {
   "cell_type": "code",
   "execution_count": null,
   "metadata": {
    "pycharm": {
     "is_executing": false
    }
   },
   "outputs": [],
   "source": [
    "enriched_pathways = {}\n",
    "\n",
    "for manager in managers:\n",
    "    \n",
    "    proteins = [\n",
    "        protein\n",
    "        for gene in common_genes\n",
    "        for protein in manager.query_protein_by_hgnc(gene) #Might be multiple hgnc symbols associated to uniprot (Reactome)\n",
    "    ]\n",
    "    \n",
    "    pathways_lists = [\n",
    "        protein.get_pathways_ids()\n",
    "        for protein in proteins\n",
    "    ]\n",
    "    \n",
    "    pathway_counter = Counter(itt.chain(*pathways_lists))\n",
    "\n",
    "    enriched_pathways[manager.module_name] = pathway_counter"
   ]
  },
  {
   "cell_type": "code",
   "execution_count": null,
   "metadata": {
    "pycharm": {
     "is_executing": false
    }
   },
   "outputs": [],
   "source": [
    "total_keggs = len(kegg_manager.get_all_pathway_names())\n",
    "total_reactomes = len(reactome_manager.get_all_pathway_names())\n",
    "total_wikipathways = len(wikipathways_manager.get_all_pathway_names())\n",
    "\n",
    "number_of_kegg_enriched = len(enriched_pathways['kegg'])\n",
    "number_of_reactome_enriched = len(enriched_pathways['reactome'])\n",
    "number_of_wikipathways_enriched = len(enriched_pathways['wikipathways'])\n",
    " \n",
    "kegg = [number_of_kegg_enriched, total_keggs-number_of_kegg_enriched] # KEGG \n",
    "reactome = [number_of_reactome_enriched, total_reactomes-number_of_reactome_enriched] #Reactome\n",
    "wikipathways = [number_of_wikipathways_enriched, total_wikipathways-number_of_wikipathways_enriched] #WikiPathways\n",
    "\n",
    "plot_enriched_pathways(\n",
    "    'Relative pathway enrichment using the core genes present in all KEGG, Reactome, and WikiPathways',\n",
    "    kegg, reactome, wikipathways\n",
    ")\n",
    "plt.show()"
   ]
  },
  {
   "cell_type": "markdown",
   "metadata": {},
   "source": [
    "__Figure 2. The majority of pathways are covered by the genes shared between the three databases.__ The figure shows almost the totality of pathways contained at least one gene part of the common nucleus. As expected, Reactome contained a subset of pathways (~10%) which was not enriched since it is the biggest database with respect to pathway and gene size. However, the results presented show that with these core of ~3800 genes compose the core of the pathway knowledge. Future work could be conducted to find contradictions in this common knowledge, or complement the knowledge between databases."
   ]
  },
  {
   "cell_type": "markdown",
   "metadata": {},
   "source": [
    "### Zooming into the KEGG and Reactome pathways that were not enriched"
   ]
  },
  {
   "cell_type": "code",
   "execution_count": null,
   "metadata": {
    "pycharm": {
     "is_executing": false
    }
   },
   "outputs": [],
   "source": [
    "kegg_enriched_names = [\n",
    "    kegg_manager.get_pathway_by_id(kegg_id).name\n",
    "    for kegg_id in enriched_pathways['kegg']\n",
    "]\n",
    "\n",
    "kegg_not_enriched = set(kegg_manager.get_all_pathway_names()).difference(kegg_enriched_names)\n",
    "\n",
    "print('KEGG pathways not enriched by the core gene set ({}): {}\\n'.format(len(kegg_not_enriched) ,kegg_not_enriched))\n",
    "\n",
    "reactome_enriched_names = [\n",
    "    reactome_manager.get_pathway_by_id(reactome_id).name\n",
    "    for reactome_id in enriched_pathways['reactome']\n",
    "]\n",
    "\n",
    "reactome_not_enriched = set(reactome_manager.get_all_pathway_names()).difference(reactome_enriched_names)\n",
    "\n",
    "print('Reactome pathways not enriched by the core gene set: {}'.format(len(reactome_not_enriched)))\n",
    "\n",
    "# print(reactome_not_enriched)"
   ]
  },
  {
   "cell_type": "markdown",
   "metadata": {},
   "source": [
    "__Not enriched pathways:__ Specific pathways containing only a few genes."
   ]
  },
  {
   "cell_type": "markdown",
   "metadata": {},
   "source": [
    "### Repeat the exercise applying a filter (pathways must contain at least X genes from the common core)"
   ]
  },
  {
   "cell_type": "code",
   "execution_count": null,
   "metadata": {
    "pycharm": {
     "is_executing": false
    }
   },
   "outputs": [],
   "source": [
    "kegg_lines = []\n",
    "reactome_lines = []\n",
    "wikipathways_lines = []\n",
    "\n",
    "for i in range(1,200):\n",
    "\n",
    "    filtered_results = apply_filter(enriched_pathways, i)\n",
    "\n",
    "    kegg_coverage, reactome_coverage, wikipathways_coverage = calculate_relative_enrichment(\n",
    "        filtered_results, \n",
    "        total_keggs,\n",
    "        total_reactomes,\n",
    "        total_wikipathways\n",
    "    )\n",
    "    \n",
    "    kegg_lines.append((i,kegg_coverage))\n",
    "    reactome_lines.append((i,reactome_coverage))\n",
    "    wikipathways_lines.append((i,wikipathways_coverage))"
   ]
  },
  {
   "cell_type": "code",
   "execution_count": null,
   "metadata": {
    "pycharm": {
     "is_executing": false
    }
   },
   "outputs": [],
   "source": [
    "# Line chart\n",
    "fig = plt.figure(figsize=(20, 10))\n",
    "\n",
    "\n",
    "plt.plot([x for x,y in kegg_lines],[y for x,y in kegg_lines], label=\"Relative Coverage of KEGG\")\n",
    "plt.plot([x for x,y in reactome_lines],[y for x,y in reactome_lines], label=\"Relative Coverage of Reactome\")\n",
    "plt.plot([x for x,y in wikipathways_lines],[y for x,y in wikipathways_lines], label=\"Relative Coverage of WikiPatwhays\")\n",
    "\n",
    "axes = plt.gca()\n",
    "axes.set_ylim([0,1])\n",
    "\n",
    "axes.set_ylabel('Relative Coverage (Pathways Covered/Total Pathways)')\n",
    "axes.set_xlabel('Threshold (Minimum Number of Genes Mapped to Cover a Pathway)')\n",
    "\n",
    "leg = plt.legend(loc=9, ncol=1, shadow=True, fancybox=True)\n",
    "leg.get_frame().set_alpha(0.5)\n",
    "\n",
    "plt.show()"
   ]
  },
  {
   "cell_type": "markdown",
   "metadata": {},
   "source": [
    "__Figure 3. Relative coverage of pathways by using pathway enrichment applying thresholds (a minimum of genes is required to enriched the pathway).__ It is interesting to see that while Reactome and WikiPathways coverage decreases quickly, KEGG pathway coverage remains quite high. We have to keep in mind that WikiPathways contains the smallest amoung of genes (~6000) when compared to Reactome (~10000) and KEGG (~7000). This might indicate that a signficant amount of KEGG pathways comprise big amount of the genes that are part of the core gene set shared between the three databases."
   ]
  }
 ],
 "metadata": {
  "kernelspec": {
   "display_name": "Python 3",
   "language": "python",
   "name": "python3"
  },
  "language_info": {
   "codemirror_mode": {
    "name": "ipython",
    "version": 3
   },
   "file_extension": ".py",
   "mimetype": "text/x-python",
   "name": "python",
   "nbconvert_exporter": "python",
   "pygments_lexer": "ipython3",
   "version": "3.6.5"
  }
 },
 "nbformat": 4,
 "nbformat_minor": 2
}