{
 "cells": [
  {
   "cell_type": "markdown",
   "metadata": {},
   "source": [
    "# Similarity analysis in mapped pathways\n",
    "\n",
    "This notebook shows explores the similarity between the mappings across KEGG, Reactome, and WikiPathways.\n",
    "\n",
    "Author: [Daniel Domingo-Fernández](https://github.com/ddomingof)"
   ]
  },
  {
   "cell_type": "code",
   "execution_count": 1,
   "metadata": {
    "collapsed": true
   },
   "outputs": [],
   "source": [
    "import pandas as pd\n",
    "import numpy as np\n",
    "\n",
    "from bio2bel_kegg.manager import Manager as KeggManager\n",
    "from bio2bel_wikipathways.manager import Manager as WikiPathwaysManager\n",
    "from bio2bel_reactome.manager import Manager as ReactomeManager\n",
    "\n",
    "import matplotlib.pyplot as plt\n",
    "import seaborn as sns"
   ]
  },
  {
   "cell_type": "code",
   "execution_count": 2,
   "metadata": {
    "collapsed": true
   },
   "outputs": [],
   "source": [
    "%matplotlib inline"
   ]
  },
  {
   "cell_type": "markdown",
   "metadata": {},
   "source": [
    "Load Established Mappings"
   ]
  },
  {
   "cell_type": "code",
   "execution_count": 3,
   "metadata": {
    "collapsed": true
   },
   "outputs": [],
   "source": [
    "kegg_wikipathways_df = pd.read_excel(\n",
    "    'https://github.com/ComPath/curation/raw/master/mappings/kegg_wikipathways.xlsx',\n",
    "    index_col=0\n",
    ")\n",
    "kegg_reactome_df = pd.read_excel(\n",
    "    'https://github.com/ComPath/curation/raw/master/mappings/kegg_reactome.xlsx',\n",
    "    index_col=0\n",
    ")\n",
    "wikipathways_reactome_df = pd.read_excel(\n",
    "    'https://github.com/ComPath/curation/raw/master/mappings/wikipathways_reactome.xlsx',\n",
    "    index_col=0\n",
    ")"
   ]
  },
  {
   "cell_type": "markdown",
   "metadata": {},
   "source": [
    "Call the Database Managers to query gene sets"
   ]
  },
  {
   "cell_type": "code",
   "execution_count": 4,
   "metadata": {
    "collapsed": true
   },
   "outputs": [],
   "source": [
    "kegg_manager = KeggManager()\n",
    "wikipathways_manager = WikiPathwaysManager()\n",
    "reactome_manager = ReactomeManager()"
   ]
  },
  {
   "cell_type": "markdown",
   "metadata": {},
   "source": [
    "Methods to calculate similarity and process mappings"
   ]
  },
  {
   "cell_type": "code",
   "execution_count": 5,
   "metadata": {
    "collapsed": true
   },
   "outputs": [],
   "source": [
    "def calculate_szymkiewicz_simpson_coefficient(set_1, set_2):\n",
    "    \"\"\"Calculate Szymkiewicz-Simpson coefficient between two sets.\n",
    "    \n",
    "    :param set set_1: set 1\n",
    "    :param set set_2: set 2\n",
    "    :returns similarity\n",
    "    :rtype: float\n",
    "    \"\"\"\n",
    "    \n",
    "    intersection = len(set_1.intersection(set_2))\n",
    "    smaller_set = min(len(set_1), len(set_2))\n",
    "        \n",
    "    return intersection/smaller_set\n",
    "\n",
    "def get_gene_set_from_pathway_model(pathway_model):\n",
    "    \"\"\"Return the gene set given a Bio2BEL ComPath Pathway model.\n",
    "    \n",
    "    :rtype: set\n",
    "    \"\"\"\n",
    "    return  {\n",
    "        gene.hgnc_symbol\n",
    "        for gene in pathway_model.proteins\n",
    "    }\n",
    "\n",
    "def get_pathway_models(reference_manager, compared_manager, pathway_1_name, pathway_2_name):\n",
    "    \"\"\"Return the pathway models from their correspondent managers.\n",
    "    \n",
    "    :rtype: tuple(Pathway, Pathway)\n",
    "    \"\"\"\n",
    "    pathway_1 = reference_manager.get_pathway_by_name(pathway_1_name)\n",
    "    \n",
    "    pathway_2 = compared_manager.get_pathway_by_name(pathway_2_name)\n",
    "    \n",
    "    if pathway_1 is None:\n",
    "        raise ValueError(\"Not Valid Pathway Name: {}\".format(pathway_1_name))\n",
    "        \n",
    "    if pathway_2 is None:\n",
    "        raise ValueError(\"Not Valid Pathway Name: {}\".format(pathway_2_name))\n",
    "        \n",
    "    return pathway_1, pathway_2\n",
    "   \n",
    "def get_overlap(reference_manager, compared_manager, reference_pathway_name, compared_pathway_name):\n",
    "    \"\"\"Calculate the overlap between two pathways\"\"\"\n",
    "        \n",
    "    pathway_1, pathway_2 = get_pathway_models(reference_manager, compared_manager, reference_pathway_name, compared_pathway_name)\n",
    "    \n",
    "    return calculate_szymkiewicz_simpson_coefficient(get_gene_set_from_pathway_model(pathway_1), get_gene_set_from_pathway_model(pathway_2))\n",
    "   \n",
    "def get_pathways_from_statement(mapping_statement, mapping_type):\n",
    "    \"\"\"Return the subject, object of the mapping.\n",
    "    \n",
    "    :param str mapping_statement: statement\n",
    "    :param str mapping_type: type of relationship\n",
    "    :rtype: tuple[str,str]\n",
    "    \"\"\"\n",
    "    _pathways = mapping_statement.split(mapping_type)\n",
    "        \n",
    "    return _pathways[0].strip(), _pathways[1].strip()\n",
    "\n",
    "\n",
    "def remove_star_from_pathway_name(pathway_name):\n",
    "    \"\"\"Remove the star that label the reference pathway in isPartOf statements.\n",
    "    \n",
    "    :param str statements: pathway name\n",
    "    \"\"\"\n",
    "    return pathway_name.replace(\"*\", \"\").strip()\n",
    "\n",
    "    \n",
    "def get_pathways_from_is_part_of_mapping(mapping_statement):\n",
    "    \"\"\"Return the pathways of a hierarchical mapping.\"\"\"\n",
    "\n",
    "    pathway_1, pathway_2 = get_pathways_from_statement(mapping_statement, 'isPartOf')\n",
    "\n",
    "    if \"*\" in pathway_1:\n",
    "\n",
    "        pathway_1 = remove_star_from_pathway_name(pathway_1)\n",
    "        return pathway_1, pathway_2\n",
    "\n",
    "\n",
    "    else:\n",
    "        pathway_2 = remove_star_from_pathway_name(pathway_2)\n",
    "        return pathway_2, pathway_1\n",
    "\n",
    "\n",
    "def parse_equivalent_to(df, reference_manager, compared_manager):\n",
    "    \"\"\"Parse the column corresponding to equivalentTo mappings in the excel sheet.\n",
    "    \n",
    "    :returns: list of overlaps and name of pathways with equivalentTo mappings\n",
    "    :rtype: tuple(list, set)\n",
    "    \"\"\"\n",
    "    \n",
    "    equivalent_pathways = set()\n",
    "    equivalent_ids= set()\n",
    "    \n",
    "    overlaps = []\n",
    "    \n",
    "    for index, row in df.iterrows(): \n",
    "\n",
    "        equivalent_to_mappings = row['equivalentTo Mappings']\n",
    "\n",
    "        if pd.isnull(equivalent_to_mappings):\n",
    "            continue\n",
    "\n",
    "        for mapping_statement in equivalent_to_mappings.split(\"\\n\"):\n",
    "            \n",
    "            if mapping_statement == '':\n",
    "                continue\n",
    "            \n",
    "            reference_pathway, compared_pathway = get_pathways_from_statement(mapping_statement, \"equivalentTo\")\n",
    "\n",
    "            similarity = get_overlap(reference_manager, compared_manager, reference_pathway, compared_pathway)\n",
    "\n",
    "            overlaps.append(similarity)\n",
    "\n",
    "            equivalent_pathways.add(reference_pathway)\n",
    "            equivalent_pathways.add(compared_pathway)  \n",
    "            \n",
    "            pathway_1, pathway_2 = get_pathway_models(reference_manager, compared_manager, reference_pathway, compared_pathway)\n",
    "            equivalent_ids.add(pathway_1.resource_id)  \n",
    "            equivalent_ids.add(pathway_2.resource_id)\n",
    "\n",
    "#             if similarity < 0.2:\n",
    "#                 print('{} = {} has a similarity of {}'.format(reference_pathway, compared_pathway, similarity))\n",
    "    \n",
    "    return overlaps, equivalent_pathways, equivalent_ids\n",
    "\n",
    "\n",
    "def parse_is_part_of(df, reference_manager, compared_manager):\n",
    "    \"\"\"Parse the column corresponding to isPartOf mappings in the excel sheet.\n",
    "    \n",
    "    :returns: list of overlaps and name of pathways with isPartOf mappings\n",
    "    :rtype: tuple(list, list, set)\n",
    "    \"\"\"\n",
    "    \n",
    "    is_part_of_pathways = []\n",
    "    overlaps = []\n",
    "\n",
    "    for index, row in df.iterrows(): \n",
    "                \n",
    "        is_part_of_mappings = row['isPartOf Mappings']\n",
    "\n",
    "        if pd.isnull(is_part_of_mappings):\n",
    "                continue\n",
    "\n",
    "        for mapping_statement in is_part_of_mappings.split('\\n'):\n",
    "            \n",
    "            if mapping_statement == '':\n",
    "                continue\n",
    "\n",
    "            reference_pathway, compared_pathway = get_pathways_from_is_part_of_mapping(mapping_statement)\n",
    "            \n",
    "            similarity = get_overlap(reference_manager, compared_manager, reference_pathway, compared_pathway)\n",
    "\n",
    "            overlaps.append(similarity)\n",
    "            \n",
    "            # List of pathways with mappings\n",
    "            is_part_of_pathways.append(reference_pathway)\n",
    "            is_part_of_pathways.append(compared_pathway)\n",
    "\n",
    "#             if similarity < 0.5:\n",
    "#                 print('{} = {} has a similarity of {}'.format(reference_pathway, compared_pathway, similarity))\n",
    "    \n",
    "    return overlaps, set(is_part_of_pathways), is_part_of_pathways\n"
   ]
  },
  {
   "cell_type": "markdown",
   "metadata": {},
   "source": [
    "# Distribution of mappings based on similarity\n",
    "\n",
    "## Equivalent pathways distribution based on similarity\n",
    "\n",
    "In the following plots, we compare similar are content the equivalent pathways across the multiple pathway databases comparisons. The histogram plots the distribution of mappings (y axis) versus similarity (x axis). Similarity is calculated using the [Szymkiewicz–Simpson coefficient](https://en.wikipedia.org/wiki/Overlap_coefficient). The distributions show how most of the equivalent mappings share high similarity based on content (distribution is assymetrical and right skewed)."
   ]
  },
  {
   "cell_type": "code",
   "execution_count": 6,
   "metadata": {},
   "outputs": [
    {
     "name": "stdout",
     "output_type": "stream",
     "text": [
      "############### KEGG vs WikiPathways #################\n",
      "\n",
      "56 equivalentTo Overlaps. avg = 0.7846429512989099\n",
      "\n",
      "############### KEGG vs Reactome #################\n",
      "\n",
      "58 equivalentTo Overlaps. avg = 0.6196304597434747\n",
      "\n",
      "############### WikiPathways vs Reactome #################\n",
      "\n",
      "64 equivalentTo Overlaps. avg = 0.6689260513568241\n",
      "\n"
     ]
    }
   ],
   "source": [
    "print(\"############### KEGG vs WikiPathways #################\\n\")\n",
    "\n",
    "kegg_wikipathways_equivalent_overlaps, kegg_wikipathways_equivalents, kegg_wikipathways_mappings_ids = parse_equivalent_to(\n",
    "    kegg_wikipathways_df,\n",
    "    kegg_manager,\n",
    "    wikipathways_manager\n",
    ")\n",
    "\n",
    "print(\"{} equivalentTo Overlaps. avg = {}\\n\".format(len(kegg_wikipathways_equivalent_overlaps), np.mean(kegg_wikipathways_equivalent_overlaps)))   \n",
    "\n",
    "print(\"############### KEGG vs Reactome #################\\n\")\n",
    "\n",
    "kegg_reactome_equivalent_overlaps, kegg_reactome_equivalents, kegg_reactome_mappings_ids = parse_equivalent_to(\n",
    "    kegg_reactome_df,\n",
    "    kegg_manager,\n",
    "    reactome_manager\n",
    ")\n",
    "\n",
    "print(\"{} equivalentTo Overlaps. avg = {}\\n\".format(len(kegg_reactome_equivalent_overlaps), np.mean(kegg_reactome_equivalent_overlaps)))   \n",
    "\n",
    "print(\"############### WikiPathways vs Reactome #################\\n\")\n",
    "\n",
    "wikipathways_reactome_equivalent_overlaps, wikipathways_reactome_equivalents, wikipathways_reactome_mappings_ids = parse_equivalent_to(\n",
    "    wikipathways_reactome_df,\n",
    "    wikipathways_manager,\n",
    "    reactome_manager\n",
    ")\n",
    "\n",
    "print(\"{} equivalentTo Overlaps. avg = {}\\n\".format(len(wikipathways_reactome_equivalent_overlaps), np.mean(wikipathways_reactome_equivalent_overlaps)))   \n"
   ]
  },
  {
   "cell_type": "code",
   "execution_count": 7,
   "metadata": {},
   "outputs": [
    {
     "data": {
      "image/png": "[encoded data removed]",
      "text/plain": [
       "<matplotlib.figure.Figure at 0x7fccc2f6aac8>"
      ]
     },
     "metadata": {},
     "output_type": "display_data"
    }
   ],
   "source": [
    "fig = plt.figure(figsize=(25, 6))\n",
    "\n",
    "ax = fig.add_subplot(1, 3, 1)\n",
    "ax.set_title('Distribution KEGG and WikiPathways #{}'.format(len(kegg_wikipathways_equivalent_overlaps)))\n",
    "ax.set_xlabel('Szymkiewicz-Simpson coefficient')\n",
    "ax.set_ylabel('Frequency')\n",
    "ax.set_xlim(0, 1)\n",
    "sns.distplot(kegg_wikipathways_equivalent_overlaps, kde=False, rug=True,  bins=20)\n",
    "\n",
    "ax = fig.add_subplot(1, 3, 2)\n",
    "ax.set_title('Distribution KEGG and Reactome #{}'.format(len(kegg_reactome_equivalent_overlaps)))\n",
    "ax.set_xlabel('Szymkiewicz-Simpson coefficient')\n",
    "ax.set_ylabel('Frequency')\n",
    "ax.set_xlim(0, 1)\n",
    "sns.distplot(kegg_reactome_equivalent_overlaps, kde=False, rug=True,  bins=20)\n",
    "\n",
    "ax = fig.add_subplot(1, 3, 3)\n",
    "ax.set_title('Distribution WikiPathways and Reactome #{}'.format(len(wikipathways_reactome_equivalent_overlaps)))\n",
    "ax.set_xlabel('Szymkiewicz-Simpson coefficient')\n",
    "ax.set_ylabel('Frequency')\n",
    "ax.set_xlim(0, 1)\n",
    "sns.distplot(wikipathways_reactome_equivalent_overlaps, kde=False, rug=True,  bins=20)\n",
    "\n",
    "plt.show()"
   ]
  },
  {
   "cell_type": "markdown",
   "metadata": {},
   "source": [
    "The distributions present us with interesting results:\n",
    "\n",
    "- The number of equivalent pathways between the three is fairly consistent (56, 58, and 64 shared pathtways).\n",
    "- KEGG and WikiPathways share the highest similarity within this shared pathways (distribution is right skewed and avg equals 0.787 similarity). The reason for this might be related to the fact that Reactome granularity (smaller pathways in general, see plots at the bottom of the notebook) is different to KEGG and WikiPathways which contain mostly medium-sized pathways (~100 genes).\n",
    "- Few pathways share a similarity lower than 0.4 (40% overlap).\n",
    "\n",
    "_Note that there is one outlier in the left side of each histogram (equivalent pathways with less than 0.2 overlap)._\n",
    "\n",
    "1. _In the first histogram (KEGG-WikiPathways): Steroid biosynthesis with 0.1 overlap (10%)_\n",
    "2. _In the histogram on the middle (KEGG-Reactome): Linoleic acid metabolism does not share any gene with its the two pathways._\n",
    "3. _In the last histogram (WikiPathways-Reactome): TGF-B Signaling in Thyroid Cells for Epithelial-Mesenchymal Transition with 0.0625 overlap._\n",
    "\n",
    "It would be interesting to see what is the reason behind this low similarity between the equivalent pathways."
   ]
  },
  {
   "cell_type": "markdown",
   "metadata": {
    "collapsed": true
   },
   "source": [
    "## Hierarchical pathways distribution based on similarity\n",
    "\n",
    "In the following plots, we compare the similarity of pathways related by hierarhical mappings across the multiple pathway databases comparisons. The histogram plots the distribution of mappings (y axis) versus similarity (x axis). Similarity is calculated using the [Szymkiewicz–Simpson coefficient](https://en.wikipedia.org/wiki/Overlap_coefficient). The distributions show how most of the hierarchical mappings share high similarity based on content (distribution is assymetrical and right skewed). However, the number of mappings with low similarity is higher than the equivalent mappings."
   ]
  },
  {
   "cell_type": "code",
   "execution_count": 8,
   "metadata": {},
   "outputs": [
    {
     "name": "stdout",
     "output_type": "stream",
     "text": [
      "############### KEGG vs WikiPathways #################\n",
      "\n",
      "247 isPartOf Overlaps. avg = 0.6081484390727745\n",
      "\n",
      "############### KEGG vs Reactome #################\n",
      "\n",
      "598 isPartOf Overlaps. avg = 0.6679892601603411\n",
      "\n",
      "############### WikiPathways vs Reactome #################\n",
      "\n",
      "564 isPartOf Overlaps. avg = 0.6718142581624932\n",
      "\n"
     ]
    }
   ],
   "source": [
    "print(\"############### KEGG vs WikiPathways #################\\n\")\n",
    "\n",
    "kegg_wikipathways_is_part_of_overlaps, kegg_wikipathways_is_part_of_set , kegg_wikipathways_is_part_of_list = parse_is_part_of(\n",
    "    kegg_wikipathways_df,\n",
    "    kegg_manager,\n",
    "    wikipathways_manager\n",
    ")\n",
    "      \n",
    "print(\"{} isPartOf Overlaps. avg = {}\\n\".format(len(kegg_wikipathways_is_part_of_overlaps), np.mean(kegg_wikipathways_is_part_of_overlaps)))\n",
    "\n",
    "print(\"############### KEGG vs Reactome #################\\n\")\n",
    "\n",
    "kegg_reactome_is_part_of_overlaps, kegg_reactome_is_part_of_set , kegg_reactome_is_part_of_list = parse_is_part_of(\n",
    "    kegg_reactome_df,\n",
    "    kegg_manager,\n",
    "    reactome_manager\n",
    ")\n",
    "      \n",
    "print(\"{} isPartOf Overlaps. avg = {}\\n\".format(len(kegg_reactome_is_part_of_overlaps), np.mean(kegg_reactome_is_part_of_overlaps)))\n",
    "\n",
    "print(\"############### WikiPathways vs Reactome #################\\n\")\n",
    "\n",
    "wikipathways_reactome_is_part_of_overlaps, wikipathways_reactome_is_part_of_set , wikipathways_reactome_is_part_of_list = parse_is_part_of(\n",
    "    wikipathways_reactome_df,\n",
    "    wikipathways_manager,\n",
    "    reactome_manager\n",
    ")\n",
    "      \n",
    "print(\"{} isPartOf Overlaps. avg = {}\\n\".format(len(wikipathways_reactome_is_part_of_overlaps), np.mean(wikipathways_reactome_is_part_of_overlaps))) "
   ]
  },
  {
   "cell_type": "code",
   "execution_count": 9,
   "metadata": {},
   "outputs": [
    {
     "data": {
      "image/png": "[encoded data removed]",
      "text/plain": [
       "<matplotlib.figure.Figure at 0x7fccc086bcc0>"
      ]
     },
     "metadata": {},
     "output_type": "display_data"
    }
   ],
   "source": [
    "fig = plt.figure(figsize=(25, 6))\n",
    "\n",
    "ax = fig.add_subplot(1, 3, 1)\n",
    "ax.set_title('Distribution KEGG and WikiPathways #{}'.format(len(kegg_wikipathways_is_part_of_overlaps)))\n",
    "ax.set_xlabel('Szymkiewicz-Simpson coefficient')\n",
    "ax.set_ylabel('Frequency')\n",
    "ax.set_xlim(0, 1)\n",
    "sns.distplot(kegg_wikipathways_is_part_of_overlaps, kde=False, rug=True, bins=20)\n",
    "\n",
    "ax = fig.add_subplot(1, 3, 2)\n",
    "ax.set_title('Distribution KEGG and Reactome #{}'.format(len(kegg_reactome_is_part_of_overlaps)))\n",
    "ax.set_xlabel('Szymkiewicz-Simpson coefficient')\n",
    "ax.set_ylabel('Frequency')\n",
    "ax.set_xlim(0, 1)\n",
    "sns.distplot(kegg_reactome_is_part_of_overlaps, kde=False, rug=True, bins=20)\n",
    "\n",
    "ax = fig.add_subplot(1, 3, 3)\n",
    "ax.set_title('Distribution WikiPathways and Reactome #{}'.format(len(wikipathways_reactome_is_part_of_overlaps)))\n",
    "ax.set_xlabel('Szymkiewicz-Simpson coefficient')\n",
    "ax.set_ylabel('Frequency')\n",
    "ax.set_xlim(0, 1)\n",
    "sns.distplot(wikipathways_reactome_is_part_of_overlaps, kde=False, rug=True, bins=20)\n",
    "\n",
    "plt.show()\n"
   ]
  },
  {
   "cell_type": "markdown",
   "metadata": {
    "collapsed": true
   },
   "source": [
    "The plots reveal a similar trend for the hierarchical mappings in the pairwise database mappings. As expected, hierarchical mappings shared a high similarity (peak of the distribution is located around 1.0). \n",
    "\n",
    "_It is important to mention that even more mappings are stored in the database thanks to the ComPath inference system. For example, when a KEGG/WikiPathways pathway is assigned as equivalent to a Reactome pathway, ComPath uses the Reactome hierarchy to infer new hierarchical mappings and map the super/sub pathways of the Reactome pathway to its corresponding KEGG/WikiPathways pathway. This plot is only for illustration purposes, because infered mappings were not included here. However, those mappings will no change the overall picture because they will share high similarity with the other pathway (since they are completely embedded in the other pathways)._"
   ]
  },
  {
   "cell_type": "markdown",
   "metadata": {},
   "source": [
    "### Extra: Distribution of pathway size for each database"
   ]
  },
  {
   "cell_type": "code",
   "execution_count": 10,
   "metadata": {
    "collapsed": true
   },
   "outputs": [],
   "source": [
    "kegg_distribution = kegg_manager.get_pathway_size_distribution()\n",
    "reactome_distribution = reactome_manager.get_pathway_size_distribution()\n",
    "wikipathways_distribution = wikipathways_manager.get_pathway_size_distribution()"
   ]
  },
  {
   "cell_type": "code",
   "execution_count": 11,
   "metadata": {},
   "outputs": [
    {
     "data": {
      "image/png": "[encoded data removed]",
      "text/plain": [
       "<matplotlib.figure.Figure at 0x7fccbef008d0>"
      ]
     },
     "metadata": {},
     "output_type": "display_data"
    }
   ],
   "source": [
    "fig = plt.figure(figsize=(25, 6))\n",
    "\n",
    "ax = fig.add_subplot(1, 3, 1)\n",
    "ax.set_title('Pathway sizes in KEGG #{}'.format(len(kegg_distribution)))\n",
    "ax.set_xlabel('Number of genes in pathway')\n",
    "ax.set_ylabel('Frequency')\n",
    "sns.distplot(list(kegg_distribution.values()), kde=False, rug=True, bins=50)\n",
    "\n",
    "ax = fig.add_subplot(1, 3, 2)\n",
    "ax.set_title('Pathway sizes in Reactome #{}'.format(len(reactome_distribution)))\n",
    "ax.set_xlabel('Number of genes in pathway')\n",
    "ax.set_ylabel('Frequency')\n",
    "sns.distplot(list(reactome_distribution.values()), kde=False, rug=True, bins=100)\n",
    "\n",
    "ax = fig.add_subplot(1, 3, 3)\n",
    "ax.set_title('Pathway sizes in WikiPathways #{}'.format(len(wikipathways_distribution)))\n",
    "ax.set_xlabel('Number of genes in pathway')\n",
    "ax.set_ylabel('Frequency')\n",
    "sns.distplot(list(wikipathways_distribution.values()), kde=False, rug=True, bins=50)\n",
    "\n",
    "plt.show()"
   ]
  },
  {
   "cell_type": "markdown",
   "metadata": {},
   "source": [
    "__Distribution of pathway size for each database__. Note that KEGG and WikiPathways present a similar pathway landscape, where most of the pathways with a range of 25-100 genes, in constrast to Reactome where most of the pathways contain less than 50 genes. The rationale for this is that Reactome pathways are more specific, and therefore smaller in size."
   ]
  }
 ],
 "metadata": {
  "kernelspec": {
   "display_name": "Python 3",
   "language": "python",
   "name": "python3"
  },
  "language_info": {
   "codemirror_mode": {
    "name": "ipython",
    "version": 3
   },
   "file_extension": ".py",
   "mimetype": "text/x-python",
   "name": "python",
   "nbconvert_exporter": "python",
   "pygments_lexer": "ipython3",
   "version": "3.6.2"
  }
 },
 "nbformat": 4,
 "nbformat_minor": 2
}
