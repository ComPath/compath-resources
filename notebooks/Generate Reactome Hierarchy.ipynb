{
 "cells": [
  {
   "cell_type": "code",
   "execution_count": 1,
   "metadata": {},
   "outputs": [],
   "source": [
    "import bio2bel_reactome\n",
    "import itertools as itt\n",
    "import pandas as pd"
   ]
  },
  {
   "cell_type": "code",
   "execution_count": 2,
   "metadata": {},
   "outputs": [],
   "source": [
    "manager = bio2bel_reactome.Manager()"
   ]
  },
  {
   "cell_type": "code",
   "execution_count": 3,
   "metadata": {},
   "outputs": [],
   "source": [
    "top_level_pathways = manager.get_all_top_hierarchy_pathways()"
   ]
  },
  {
   "cell_type": "code",
   "execution_count": 4,
   "metadata": {},
   "outputs": [],
   "source": [
    "top_level = [\n",
    "    pathway\n",
    "    for pathway in top_level_pathways\n",
    "    if 'HSA' in pathway.resource_id\n",
    "]"
   ]
  },
  {
   "cell_type": "code",
   "execution_count": 5,
   "metadata": {},
   "outputs": [],
   "source": [
    "def traverse(parent_pathway):\n",
    "    \n",
    "    if not parent_pathway.children:\n",
    "        return []\n",
    "    \n",
    "    result = [\n",
    "        {'Source Resource': 'reactome', \n",
    "         'Source ID': pathway.resource_id, \n",
    "         'Source Name': pathway.name, \n",
    "         'Mapping Type': 'isPartOf', \n",
    "         'Target Resource': 'reactome',\n",
    "         'Target ID': parent_pathway.resource_id, \n",
    "         'Target Name': parent_pathway.name,\n",
    "        }\n",
    "        for pathway in parent_pathway.children\n",
    "    ]\n",
    "        \n",
    "    for pathway in parent_pathway.children:\n",
    "        result.extend(\n",
    "            traverse(pathway)\n",
    "        )\n",
    "    \n",
    "    return result\n",
    "    "
   ]
  },
  {
   "cell_type": "code",
   "execution_count": 6,
   "metadata": {},
   "outputs": [],
   "source": [
    "reactome_hierarchy = list(itt.chain.from_iterable([\n",
    "    traverse(pathway)\n",
    "    for pathway in top_level\n",
    "]))"
   ]
  },
  {
   "cell_type": "code",
   "execution_count": 7,
   "metadata": {},
   "outputs": [
    {
     "data": {
      "text/plain": [
       "2335"
      ]
     },
     "execution_count": 7,
     "metadata": {},
     "output_type": "execute_result"
    }
   ],
   "source": [
    "len(reactome_hierarchy)"
   ]
  },
  {
   "cell_type": "code",
   "execution_count": 8,
   "metadata": {},
   "outputs": [],
   "source": [
    "df = pd.DataFrame(reactome_hierarchy)"
   ]
  },
  {
   "cell_type": "code",
   "execution_count": 9,
   "metadata": {},
   "outputs": [],
   "source": [
    "df.to_csv('reactome_hierarchy.tsv', index=False, sep='\\t')"
   ]
  },
  {
   "cell_type": "code",
   "execution_count": null,
   "metadata": {},
   "outputs": [],
   "source": []
  }
 ],
 "metadata": {
  "kernelspec": {
   "display_name": "Python 3",
   "language": "python",
   "name": "python3"
  },
  "language_info": {
   "codemirror_mode": {
    "name": "ipython",
    "version": 3
   },
   "file_extension": ".py",
   "mimetype": "text/x-python",
   "name": "python",
   "nbconvert_exporter": "python",
   "pygments_lexer": "ipython3",
   "version": "3.8.3"
  }
 },
 "nbformat": 4,
 "nbformat_minor": 4
}
