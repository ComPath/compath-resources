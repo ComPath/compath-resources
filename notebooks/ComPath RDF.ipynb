{
 "cells": [
  {
   "cell_type": "markdown",
   "metadata": {},
   "source": [
    "# Export ComPath mappings to RDF\n",
    "\n",
    "#### This notebook outlines the exporting of the ComPath mappings to RDF\n",
    "\n",
    "##### Author: Daniel Domingo-Fernandez"
   ]
  },
  {
   "cell_type": "code",
   "execution_count": 1,
   "metadata": {},
   "outputs": [
    {
     "name": "stderr",
     "output_type": "stream",
     "text": [
      "infer_central_dogmatic_translations is deprecated. please migrate to enrich_proteins_with_rnas\n",
      "infer_central_dogmatic_transcriptions is deprecated. please migrate to enrich_rnas_with_genes\n",
      "infer_central_dogma is deprecated. please migrate to enrich_protein_and_rna_origins\n",
      "collapse_by_central_dogma is deprecated. please migrate to collapse_to_genes\n",
      "prune_central_dogma is deprecated. please migrate to prune_protein_rna_origins\n"
     ]
    }
   ],
   "source": [
    "import rdflib\n",
    "from rdflib import Namespace\n",
    "\n",
    "import pandas as pd\n",
    "\n",
    "from bio2bel_kegg.manager import Manager as KeggManager\n",
    "from bio2bel_wikipathways.manager import Manager as WikiPathwaysManager\n",
    "from bio2bel_reactome.manager import Manager as ReactomeManager"
   ]
  },
  {
   "cell_type": "code",
   "execution_count": 2,
   "metadata": {},
   "outputs": [],
   "source": [
    "kegg_manager = KeggManager()\n",
    "wikipathways_manager = WikiPathwaysManager()\n",
    "reactome_manager = ReactomeManager()"
   ]
  },
  {
   "cell_type": "code",
   "execution_count": 3,
   "metadata": {},
   "outputs": [],
   "source": [
    "kegg_wikipathways_df = pd.read_excel(\n",
    "    'https://github.com/ComPath/curation/raw/master/mappings/kegg_wikipathways.xlsx',\n",
    "    index_col=0\n",
    ")\n",
    "kegg_reactome_df = pd.read_excel(\n",
    "    'https://github.com/ComPath/curation/raw/master/mappings/kegg_reactome.xlsx',\n",
    "    index_col=0\n",
    ")\n",
    "wikipathways_reactome_df = pd.read_excel(\n",
    "    'https://github.com/ComPath/curation/raw/master/mappings/wikipathways_reactome.xlsx',\n",
    "    index_col=0\n",
    ")"
   ]
  },
  {
   "cell_type": "code",
   "execution_count": 4,
   "metadata": {},
   "outputs": [],
   "source": [
    "def get_pathway_models(reference_manager, compared_manager, pathway_1_name, pathway_2_name):\n",
    "    \"\"\"Return the pathway models from their correspondent managers.\n",
    "    \n",
    "    :rtype: tuple(Pathway, Pathway)\n",
    "    \"\"\"\n",
    "    pathway_1 = reference_manager.get_pathway_by_name(pathway_1_name)\n",
    "    \n",
    "    pathway_2 = compared_manager.get_pathway_by_name(pathway_2_name)\n",
    "    \n",
    "    if pathway_1 is None:\n",
    "        raise ValueError(\"Not Valid Pathway Name: {}\".format(pathway_1_name))\n",
    "        \n",
    "    if pathway_2 is None:\n",
    "        raise ValueError(\"Not Valid Pathway Name: {}\".format(pathway_2_name))\n",
    "        \n",
    "    return pathway_1, pathway_2\n",
    "\n",
    "\n",
    "def remove_star_from_pathway_name(pathway_name):\n",
    "    \"\"\"Remove the star that label the reference pathway in isPartOf statements.\n",
    "    \n",
    "    :param str statements: pathway name\n",
    "    \"\"\"\n",
    "    return pathway_name.replace(\"*\", \"\").strip()\n",
    "\n",
    "def get_pathways_from_statement(mapping_statement, mapping_type):\n",
    "    \"\"\"Return the subject, object of the mapping.\n",
    "    \n",
    "    :param str mapping_statement: statement\n",
    "    :param str mapping_type: type of relationship\n",
    "    :rtype: tuple[str,str]\n",
    "    \"\"\"\n",
    "    _pathways = mapping_statement.split(mapping_type)\n",
    "        \n",
    "    return _pathways[0].strip(), _pathways[1].strip()\n",
    "\n",
    "def get_pathways_from_is_part_of_mapping(mapping_statement):\n",
    "    \"\"\"Return the pathways of a hierarchical mapping.\"\"\"\n",
    "\n",
    "    pathway_1, pathway_2 = get_pathways_from_statement(mapping_statement, 'isPartOf')\n",
    "\n",
    "    if \"*\" in pathway_1:\n",
    "\n",
    "        pathway_1 = remove_star_from_pathway_name(pathway_1)\n",
    "        return pathway_1, pathway_2\n",
    "\n",
    "\n",
    "    else:\n",
    "        pathway_2 = remove_star_from_pathway_name(pathway_2)\n",
    "        return pathway_2, pathway_1\n",
    "    \n",
    "    \n",
    "def parse_equivalent_to(df, reference_manager, compared_manager, reference_name, compared_name):\n",
    "    \"\"\"Parse the column corresponding to equivalentTo mappings in the excel sheet.\n",
    "    \n",
    "    :returns: list of equivalent pathways\n",
    "    :rtype: list[tuple[str,str]]\n",
    "    \"\"\"\n",
    "    \n",
    "    equivalent_pathways = list()\n",
    "        \n",
    "    for index, row in df.iterrows(): \n",
    "\n",
    "        equivalent_to_mappings = row['equivalentTo Mappings']\n",
    "\n",
    "        if pd.isnull(equivalent_to_mappings):\n",
    "            continue\n",
    "\n",
    "        for mapping_statement in equivalent_to_mappings.split(\"\\n\"):\n",
    "            \n",
    "            if mapping_statement == '':\n",
    "                continue\n",
    "            \n",
    "            reference_pathway, compared_pathway = get_pathways_from_statement(mapping_statement, \"equivalentTo\")\n",
    "            \n",
    "            pathway_1, pathway_2 = get_pathway_models(reference_manager, compared_manager, reference_pathway, compared_pathway)\n",
    "\n",
    "            equivalent_pathways.append(\n",
    "                (pathway_1.name, \n",
    "                 pathway_1.resource_id,\n",
    "                 reference_name,\n",
    "                 pathway_2.name,\n",
    "                 pathway_2.resource_id,\n",
    "                 compared_name\n",
    "                )\n",
    "            )\n",
    "\n",
    "    return equivalent_pathways\n",
    "\n",
    "\n",
    "def parse_is_part_of(df, reference_manager, compared_manager, reference_name, compared_name):\n",
    "    \"\"\"Parse the column corresponding to isPartOf mappings in the excel sheet.\n",
    "    \n",
    "    :returns: list of hierarchical mappings\n",
    "    :rtype: list[tuple[str,str]]\n",
    "    \"\"\"\n",
    "    \n",
    "    is_part_of_pathways = []\n",
    "\n",
    "    for index, row in df.iterrows(): \n",
    "                \n",
    "        is_part_of_mappings = row['isPartOf Mappings']\n",
    "\n",
    "        if pd.isnull(is_part_of_mappings):\n",
    "                continue\n",
    "\n",
    "        for mapping_statement in is_part_of_mappings.split('\\n'):\n",
    "            \n",
    "            if mapping_statement == '':\n",
    "                continue\n",
    "\n",
    "            reference_pathway, compared_pathway = get_pathways_from_is_part_of_mapping(mapping_statement)\n",
    "            \n",
    "            pathway_1, pathway_2 = get_pathway_models(reference_manager, compared_manager, reference_pathway, compared_pathway)\n",
    "\n",
    "            is_part_of_pathways.append(\n",
    "                (pathway_1.name, \n",
    "                 pathway_1.resource_id,\n",
    "                 reference_name,\n",
    "                 pathway_2.name,\n",
    "                 pathway_2.resource_id,\n",
    "                 compared_name\n",
    "                )\n",
    "            )\n",
    "\n",
    "    return is_part_of_pathways"
   ]
  },
  {
   "cell_type": "code",
   "execution_count": 5,
   "metadata": {},
   "outputs": [],
   "source": [
    "# Hierarchical mappings\n",
    "kegg_reactome_hierarchical = parse_is_part_of(kegg_reactome_df, kegg_manager, reactome_manager, 'kegg', 'reactome')\n",
    "kegg_wikipathways_hierarchical = parse_is_part_of(kegg_wikipathways_df, kegg_manager, wikipathways_manager, 'kegg', 'wikipathways')\n",
    "wikipathways_reactome_hierarchical = parse_is_part_of(wikipathways_reactome_df, wikipathways_manager, reactome_manager, 'wikipathways', 'reactome')\n",
    "\n",
    "# Equivalent mappings\n",
    "kegg_reactome_equivalents = parse_equivalent_to(kegg_reactome_df, kegg_manager, reactome_manager, 'kegg', 'reactome')\n",
    "kegg_wikipathways_equivalents = parse_equivalent_to(kegg_wikipathways_df, kegg_manager, wikipathways_manager, 'kegg', 'wikipathways')\n",
    "wikipathways_reactome_equivalents = parse_equivalent_to(wikipathways_reactome_df, wikipathways_manager, reactome_manager, 'wikipathways', 'reactome')"
   ]
  },
  {
   "cell_type": "markdown",
   "metadata": {},
   "source": [
    "# Create ComPath RDF"
   ]
  },
  {
   "cell_type": "code",
   "execution_count": 6,
   "metadata": {},
   "outputs": [],
   "source": [
    "KEGG_PREFIX = 'http://identifiers.org/kegg.pathway/'\n",
    "REACTOME_PREFIX = 'http://identifiers.org/reactome/'\n",
    "WIKIPATHWAYS_PREFIX = 'http://identifiers.org/wikipathways/'\n",
    "COMPATH_PREFIX = 'http://compath.scai.fraunhofer.de/rdfs#'\n",
    "\n",
    "kegg = Namespace(KEGG_PREFIX)\n",
    "reactome = Namespace(REACTOME_PREFIX)\n",
    "wikipathways = Namespace(WIKIPATHWAYS_PREFIX)\n",
    "compath = Namespace(COMPATH_PREFIX)"
   ]
  },
  {
   "cell_type": "code",
   "execution_count": 45,
   "metadata": {},
   "outputs": [],
   "source": [
    "def match_resource(resource, pathway_id, kegg_namespace, reactome_namespace, wikipathways_namespace):\n",
    "        \n",
    "    if resource == 'kegg':\n",
    "        return kegg[pathway_id.replace('path:', '')]\n",
    "        \n",
    "    elif resource == 'reactome':\n",
    "        return reactome[pathway_id]\n",
    "        \n",
    "    elif resource == 'wikipathways':\n",
    "        return wikipathways[pathway_id]\n",
    "    \n",
    "    else:\n",
    "        raise Exception('Unvalid resource %s', resource) \n",
    "        \n",
    "        \n",
    "def populate_graph(graph, mappings, mapping_type, kegg_namespace, reactome_namespace, wikipathways_namespace, compath):\n",
    "        \n",
    "    for _, pathway_1_id, pathway_1_resource, _, pathway_2_id, pathway_2_resource in mappings:\n",
    "        \n",
    "        _object = match_resource(pathway_1_resource, pathway_1_id,  kegg_namespace, reactome_namespace, wikipathways_namespace)\n",
    "        _subject = match_resource(pathway_2_resource, pathway_2_id,  kegg_namespace, reactome_namespace, wikipathways_namespace)\n",
    "        \n",
    "        graph.add((\n",
    "            _object,\n",
    "            compath[mapping_type],\n",
    "            _subject\n",
    "        ))"
   ]
  },
  {
   "cell_type": "code",
   "execution_count": 47,
   "metadata": {},
   "outputs": [],
   "source": [
    "mappings_graph = rdflib.Graph()\n",
    "\n",
    "mappings_graph.namespace_manager.bind('kegg', kegg)\n",
    "mappings_graph.namespace_manager.bind('reactome', reactome)\n",
    "mappings_graph.namespace_manager.bind('wp', wikipathways)\n",
    "mappings_graph.namespace_manager.bind('compath', compath)\n",
    "\n",
    "populate_graph(mappings_graph, kegg_reactome_hierarchical, 'isPartOf', kegg, reactome, wikipathways, compath)\n",
    "populate_graph(mappings_graph, kegg_wikipathways_hierarchical, 'isPartOf', kegg, wikipathways, wikipathways, compath)\n",
    "populate_graph(mappings_graph, wikipathways_reactome_hierarchical, 'isPartOf', wikipathways, reactome, wikipathways, compath)\n",
    "populate_graph(mappings_graph, kegg_reactome_equivalents, 'equivalentTo', kegg, reactome, wikipathways, compath)\n",
    "populate_graph(mappings_graph, kegg_wikipathways_equivalents, 'equivalentTo', kegg, wikipathways, wikipathways, compath)\n",
    "populate_graph(mappings_graph, wikipathways_reactome_equivalents, 'equivalentTo', wikipathways, reactome, wikipathways, compath)"
   ]
  },
  {
   "cell_type": "markdown",
   "metadata": {},
   "source": [
    "## Export Graphs to RDF"
   ]
  },
  {
   "cell_type": "code",
   "execution_count": 49,
   "metadata": {},
   "outputs": [],
   "source": [
    "mappings_graph.serialize(destination='compath_mappings.rdf')"
   ]
  },
  {
   "cell_type": "code",
   "execution_count": null,
   "metadata": {},
   "outputs": [],
   "source": []
  }
 ],
 "metadata": {
  "kernelspec": {
   "display_name": "Python 3",
   "language": "python",
   "name": "python3"
  },
  "language_info": {
   "codemirror_mode": {
    "name": "ipython",
    "version": 3
   },
   "file_extension": ".py",
   "mimetype": "text/x-python",
   "name": "python",
   "nbconvert_exporter": "python",
   "pygments_lexer": "ipython3",
   "version": "3.6.5"
  }
 },
 "nbformat": 4,
 "nbformat_minor": 2
}
