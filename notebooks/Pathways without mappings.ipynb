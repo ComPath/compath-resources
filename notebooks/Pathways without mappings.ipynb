{
 "cells": [
  {
   "cell_type": "markdown",
   "metadata": {},
   "source": [
    "# Analysis of unique pathways in each database\n",
    "\n",
    "This notebook shows explores the pathways without any type of mapping with other database (KEGG, Reactome, or WikiPathways). Summary can be found at the bottom of the notebook."
   ]
  },
  {
   "cell_type": "code",
   "execution_count": 5,
   "metadata": {},
   "outputs": [],
   "source": [
    "import pandas as pd\n",
    "from bio2bel_reactome.manager import Manager as ReactomeManager\n",
    "import matplotlib.pyplot as plt"
   ]
  },
  {
   "cell_type": "code",
   "execution_count": 6,
   "metadata": {},
   "outputs": [],
   "source": [
    "%matplotlib inline"
   ]
  },
  {
   "cell_type": "markdown",
   "metadata": {},
   "source": [
    "Load Established Mappings"
   ]
  },
  {
   "cell_type": "code",
   "execution_count": 2,
   "metadata": {},
   "outputs": [],
   "source": [
    "kegg_wikipathways_df = pd.read_excel(\n",
    "    'https://github.com/ComPath/curation/raw/master/mappings/kegg_wikipathways.xlsx',\n",
    "    index_col=0\n",
    ")\n",
    "kegg_reactome_df = pd.read_excel(\n",
    "    'https://github.com/ComPath/curation/raw/master/mappings/kegg_reactome.xlsx',\n",
    "    index_col=0\n",
    ")\n",
    "wikipathways_reactome_df = pd.read_excel(\n",
    "    'https://github.com/ComPath/curation/raw/master/mappings/wikipathways_reactome.xlsx',\n",
    "    index_col=0\n",
    ")"
   ]
  },
  {
   "cell_type": "markdown",
   "metadata": {},
   "source": [
    "Call the Database Managers to list of reactome pathways"
   ]
  },
  {
   "cell_type": "code",
   "execution_count": 3,
   "metadata": {},
   "outputs": [],
   "source": [
    "reactome_manager = ReactomeManager()"
   ]
  },
  {
   "cell_type": "markdown",
   "metadata": {},
   "source": [
    "Methods to process the mapping files"
   ]
  },
  {
   "cell_type": "code",
   "execution_count": 4,
   "metadata": {},
   "outputs": [],
   "source": [
    " def get_pathways_without_mappings(all_pathways_ids, mappings_1, mappings_2):\n",
    "    \"\"\"Return pathways without mappings.\"\"\"\n",
    "    return {\n",
    "        pathway_id\n",
    "        for pathway_id in all_pathways_ids\n",
    "        if pathway_id not in mappings_1 and pathway_id not in mappings_2\n",
    "    }\n",
    "\n",
    "def get_pathways_from_statement(mapping_statement, mapping_type):\n",
    "    \"\"\"Return the subject, object of the mapping.\n",
    "    \n",
    "    :param str mapping_statement: statement\n",
    "    :param str mapping_type: type of relationship\n",
    "    :rtype: tuple[str,str]\n",
    "    \"\"\"\n",
    "    _pathways = mapping_statement.split(mapping_type)\n",
    "        \n",
    "    return _pathways[0].strip(), _pathways[1].strip()\n",
    "\n",
    "\n",
    "def remove_star_from_pathway_name(pathway_name):\n",
    "    \"\"\"Remove the star that label the reference pathway in isPartOf statements.\n",
    "    \n",
    "    :param str statements: pathway name\n",
    "    \"\"\"\n",
    "    return pathway_name.replace(\"*\", \"\").strip()\n",
    "\n",
    "    \n",
    "def get_pathways_from_is_part_of_mapping(mapping_statement):\n",
    "    \"\"\"Return the pathways of a hierarchical mapping.\"\"\"\n",
    "\n",
    "    pathway_1, pathway_2 = get_pathways_from_statement(mapping_statement, 'isPartOf')\n",
    "\n",
    "    if \"*\" in pathway_1:\n",
    "        pathway_1 = remove_star_from_pathway_name(pathway_1)\n",
    "        return pathway_1, pathway_2\n",
    "\n",
    "    else:\n",
    "        pathway_2 = remove_star_from_pathway_name(pathway_2)\n",
    "        return pathway_2, pathway_1\n",
    "\n",
    "\n",
    "def get_mapped_pathways(df):\n",
    "    \"\"\"Get pathways with mappings.\n",
    "    \n",
    "    :param pandas.DataFrame df: dataframe mappings\n",
    "    :returns: pathways with mappings for each db\n",
    "    :rtype: tuple(set, set, set)\n",
    "    \"\"\"\n",
    "    \n",
    "    reference_pathways_with_mapping = set()\n",
    "    compared_pathways_with_mapping = set()\n",
    "    \n",
    "    row_pathways = set()\n",
    "    \n",
    "    for index, row in df.iterrows(): \n",
    "        \n",
    "        row_pathways.add(index)\n",
    "\n",
    "        equivalent_to_mappings = row['equivalentTo Mappings']\n",
    "\n",
    "        if not pd.isnull(equivalent_to_mappings):\n",
    "\n",
    "            for mapping_statement in equivalent_to_mappings.split(\"\\n\"):\n",
    "\n",
    "                if mapping_statement == '':\n",
    "                    continue\n",
    "\n",
    "                reference_pathway, compared_pathway = get_pathways_from_statement(mapping_statement, \"equivalentTo\")\n",
    "                \n",
    "                reference_pathways_with_mapping.add(reference_pathway)\n",
    "                compared_pathways_with_mapping.add(compared_pathway)\n",
    "\n",
    "        is_part_of_mappings = row['isPartOf Mappings']\n",
    "\n",
    "        if not pd.isnull(is_part_of_mappings):\n",
    "        \n",
    "            for mapping_statement in is_part_of_mappings.split('\\n'):\n",
    "\n",
    "                if mapping_statement == '':\n",
    "                    continue\n",
    "\n",
    "                reference_pathway, compared_pathway = get_pathways_from_is_part_of_mapping(mapping_statement)\n",
    "\n",
    "                reference_pathways_with_mapping.add(reference_pathway)\n",
    "                compared_pathways_with_mapping.add(compared_pathway)\n",
    "                 \n",
    "    return reference_pathways_with_mapping, compared_pathways_with_mapping, row_pathways\n"
   ]
  },
  {
   "cell_type": "markdown",
   "metadata": {},
   "source": [
    "Get the pathways with mappings\n"
   ]
  },
  {
   "cell_type": "code",
   "execution_count": 5,
   "metadata": {},
   "outputs": [],
   "source": [
    "kegg_wikipathways, wikipathways_kegg, keggs = get_mapped_pathways(kegg_wikipathways_df)\n",
    "\n",
    "kegg_reactome, reactome_kegg, keggs = get_mapped_pathways(kegg_reactome_df)\n",
    "\n",
    "wikipathways_reactome, reactome_wikipathways, wikipathways = get_mapped_pathways(wikipathways_reactome_df)"
   ]
  },
  {
   "cell_type": "markdown",
   "metadata": {},
   "source": [
    "Get all pathways for each db"
   ]
  },
  {
   "cell_type": "code",
   "execution_count": 6,
   "metadata": {},
   "outputs": [],
   "source": [
    "kegg_names = keggs # rows of the excel\n",
    "reactome_names = set(reactome_manager.get_all_pathway_names()) # Get all reactome names from db\n",
    "wikipathways_names = wikipathways # rows of the excel"
   ]
  },
  {
   "cell_type": "markdown",
   "metadata": {},
   "source": [
    "Filter out the pathways without mappings"
   ]
  },
  {
   "cell_type": "code",
   "execution_count": 7,
   "metadata": {},
   "outputs": [],
   "source": [
    "kegg_without_mappings = kegg_names.difference(kegg_reactome.union(kegg_wikipathways))\n",
    "reactome_without_mappings = reactome_names.difference(reactome_wikipathways.union(reactome_kegg))\n",
    "wikipathways_without_mappings = wikipathways_names.difference(wikipathways_kegg.union(wikipathways_reactome))"
   ]
  },
  {
   "cell_type": "code",
   "execution_count": 8,
   "metadata": {},
   "outputs": [
    {
     "name": "stdout",
     "output_type": "stream",
     "text": [
      "84 KEGG pathways do not contain any mapping\n",
      "1550 Reactome pathways do not contain any mapping\n",
      "150 WikiPathways pathways do not contain any mapping\n"
     ]
    }
   ],
   "source": [
    "print('{} KEGG pathways do not contain any mapping'.format(len(kegg_without_mappings)))\n",
    "print('{} Reactome pathways do not contain any mapping'.format(len(reactome_without_mappings)))\n",
    "print('{} WikiPathways pathways do not contain any mapping'.format(len(wikipathways_without_mappings)))"
   ]
  },
  {
   "cell_type": "code",
   "execution_count": 17,
   "metadata": {},
   "outputs": [
    {
     "data": {
      "image/png": "[encoded data removed]",
      "text/plain": [
       "<matplotlib.figure.Figure at 0x7f3941d75208>"
      ]
     },
     "metadata": {},
     "output_type": "display_data"
    }
   ],
   "source": [
    "# Pie chart\n",
    "labels = ['Uncovered', 'Covered']\n",
    "#colors\n",
    "colors = ['#ff9999','#66b3ff']\n",
    " \n",
    "kegg = [26.15, 73.84] # KEGG \n",
    "reactome = [70.51, 29.48] #Reactome\n",
    "wikipathways = [35.29, 64.70] #WikiPathways\n",
    "\n",
    "fig = plt.figure(figsize=(25, 6))\n",
    "\n",
    "ax1 = fig.add_subplot(1, 3, 1)\n",
    "\n",
    "ax1.pie(kegg, colors = colors, labels=labels, autopct='%1.1f%%', startangle=90)\n",
    "ax1.set_title('KEGG', fontsize=18)\n",
    "#draw circle\n",
    "centre_circle = plt.Circle((0,0),0.70,fc='white')\n",
    "fig = plt.gcf()\n",
    "fig.gca().add_artist(centre_circle)\n",
    "# Equal aspect ratio ensures that pie is drawn as a circle\n",
    "ax1.axis('equal')  \n",
    "\n",
    "ax_2 = fig.add_subplot(1, 3, 2)\n",
    "\n",
    "ax_2.pie(reactome, colors = colors, labels=labels, autopct='%1.1f%%', startangle=90)\n",
    "ax_2.set_title('Reactome', fontsize=18)\n",
    "#draw circle\n",
    "centre_circle = plt.Circle((0,0),0.70,fc='white')\n",
    "fig = plt.gcf()\n",
    "fig.gca().add_artist(centre_circle)\n",
    "# Equal aspect ratio ensures that pie is drawn as a circle\n",
    "ax_2.axis('equal')  \n",
    "\n",
    "ax_3 = fig.add_subplot(1, 3, 3)\n",
    "\n",
    "ax_3.pie(wikipathways, colors = colors, labels=labels, autopct='%1.1f%%', startangle=90)\n",
    "ax_3.set_title('WikiPathways', fontsize=18)\n",
    "#draw circle\n",
    "centre_circle = plt.Circle((0,0),0.70,fc='white')\n",
    "fig = plt.gcf()\n",
    "fig.gca().add_artist(centre_circle)\n",
    "# Equal aspect ratio ensures that pie is drawn as a circle\n",
    "ax_3.axis('equal')  \n",
    "\n",
    "plt.show()"
   ]
  },
  {
   "cell_type": "markdown",
   "metadata": {},
   "source": [
    "__Findings and Summary__:\n",
    "\n",
    "1. __There are no metabolic pathways without mappings__. This is likely due to:\n",
    "    - Metabolic knowledge is well covered in all databases\n",
    "    - Reactome and KEGG both contain a big \"metabolism pathway\". Therefore, even there always exist a mapping.\n",
    "2. __Most of the KEGG pathways without mappings correspond to disease pathways__. For example: Acute myeloid leukemia - Homo sapiens (human), Asthma - Homo sapiens (human) or Chagas disease (American trypanosomiasis) - Homo sapiens (human).\n",
    "\n",
    "3. __A big majority (~75%) of the Reactome do not contain any mapping__. This is likely due to:\n",
    "    - Reactome granularity. The majority of Reactome pathways are specific ([see linked notebook](https://github.com/ComPath/curation/blob/master/notebooks/Similarity%20analysis%20in%20mapped%20pathways.ipynb)). Therefore, it is hard to map with KEGG and WikiPathways pathways.\n",
    "    - The way in which the curation protocol was conducted ([see README file](https://github.com/ComPath/curation/blob/master/README.rst)) makes more difficult to identify mappings in Reactome since it was not used as reference database but as a comparison. In other words, we curated for each KEGG pathway the possible Reactome mapping, not the other around (due to the size of Reactome) and therefore, it is possible that some mappings might not have been identified.\n",
    "    \n",
    "4. __Most of the WikiPathways pathways without mappings are disease-related pathways__ (e.g., 'Wnt Signaling in Kidney Disease', 'Tumor suppressor activity of SMARCB1', and 'The human immune response to tuberculosis'). In contrast to KEGG, they are not disease pathways but a variant of the pathway given a disease context.   \n",
    "\n",
    "_If you want to see the list of pathways without mappings for each database, type in the following cell any of the three following words (depending on the database) and run the cell:_\n",
    "\n",
    "'kegg_without_mappings', 'reactome_without_mappings', or 'wikipathways_without_mappings'"
   ]
  },
  {
   "cell_type": "code",
   "execution_count": null,
   "metadata": {},
   "outputs": [],
   "source": []
  }
 ],
 "metadata": {
  "kernelspec": {
   "display_name": "Python 3",
   "language": "python",
   "name": "python3"
  },
  "language_info": {
   "codemirror_mode": {
    "name": "ipython",
    "version": 3
   },
   "file_extension": ".py",
   "mimetype": "text/x-python",
   "name": "python",
   "nbconvert_exporter": "python",
   "pygments_lexer": "ipython3",
   "version": "3.6.5"
  }
 },
 "nbformat": 4,
 "nbformat_minor": 2
}
