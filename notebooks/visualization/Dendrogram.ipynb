{
 "cells": [
  {
   "cell_type": "markdown",
   "metadata": {},
   "source": [
    "# Dendrogram example\n",
    "\n",
    "#### This notebooks generate the json files needed to plot the [Dendrogram](https://gist.github.com/mdml/7537455) visualization.\n",
    "\n",
    "Author: [Daniel Domingo-Fernández](https://github.com/ddomingof) "
   ]
  },
  {
   "cell_type": "code",
   "execution_count": 1,
   "metadata": {
    "collapsed": true
   },
   "outputs": [],
   "source": [
    "import time\n",
    "import sys\n",
    "import os\n",
    "\n",
    "from collections import defaultdict\n",
    "import pandas as pd\n",
    "import math\n",
    "import scipy\n",
    "import scipy.stats\n",
    "import scipy.cluster\n",
    "import numpy as np\n",
    "import json\n",
    "import matplotlib.pyplot as plt\n",
    "from functools import reduce\n",
    "import itertools as itt\n",
    "\n",
    "from bio2bel_kegg.manager import Manager as KeggManager\n",
    "from bio2bel_reactome.manager import Manager as ReactomeManager\n",
    "from bio2bel_wikipathways.manager import Manager as WikiPathwaysManager\n"
   ]
  },
  {
   "cell_type": "code",
   "execution_count": 2,
   "metadata": {},
   "outputs": [
    {
     "data": {
      "text/plain": [
       "'Tue Mar 13 14:41:57 2018'"
      ]
     },
     "execution_count": 2,
     "metadata": {},
     "output_type": "execute_result"
    }
   ],
   "source": [
    "time.asctime()"
   ]
  },
  {
   "cell_type": "code",
   "execution_count": 3,
   "metadata": {},
   "outputs": [
    {
     "name": "stdout",
     "output_type": "stream",
     "text": [
      "3.4.5 (default, Dec 11 2017, 14:22:24) \n",
      "[GCC 4.8.5 20150623 (Red Hat 4.8.5-16)]\n"
     ]
    }
   ],
   "source": [
    "print(sys.version)"
   ]
  },
  {
   "cell_type": "code",
   "execution_count": 4,
   "metadata": {
    "collapsed": true
   },
   "outputs": [],
   "source": [
    "%matplotlib inline"
   ]
  },
  {
   "cell_type": "markdown",
   "metadata": {},
   "source": [
    "Define location of gene set files via relative paths"
   ]
  },
  {
   "cell_type": "code",
   "execution_count": 5,
   "metadata": {
    "collapsed": true
   },
   "outputs": [],
   "source": [
    "#Location of the cloned repo\n",
    "BASE_PATH = os.environ['COMPATH']\n",
    "EXCELS_PATH = os.path.join(BASE_PATH,'src','compath','static','resources','excel')"
   ]
  },
  {
   "cell_type": "code",
   "execution_count": 6,
   "metadata": {
    "collapsed": true
   },
   "outputs": [],
   "source": [
    "kegg_excel = os.path.join(EXCELS_PATH,'kegg_gene_sets.xlsx')\n",
    "reactome_excel= os.path.join(EXCELS_PATH,'reactome_gene_sets.xlsx')\n",
    "wikipathways_excel = os.path.join(EXCELS_PATH,'wikipathways_gene_sets.xlsx')"
   ]
  },
  {
   "cell_type": "code",
   "execution_count": 7,
   "metadata": {
    "collapsed": true
   },
   "outputs": [],
   "source": [
    "def create_pathway_gene_set_dict(dataframe):\n",
    "    \"\"\"Creates a pathway genes dictionary\n",
    "    \n",
    "    :param pandas.DataFrame dataset: gene sets df\n",
    "    :rtype: collections.defaultdict\n",
    "    :returns: dictionary of pathway gene sets\n",
    "    \"\"\"\n",
    "    \n",
    "    pathway_dictionary = defaultdict(set)\n",
    "    \n",
    "    for pathway_name in dataframe: # iterate over columns in dataframe\n",
    "\n",
    "        for gene in dataframe[pathway_name].unique():\n",
    "            if not isinstance(gene, str): # There are NaN in the Pandas nArray\n",
    "                continue\n",
    "\n",
    "            pathway_dictionary[pathway_name].add(gene)\n",
    "            \n",
    "    return pathway_dictionary"
   ]
  },
  {
   "cell_type": "markdown",
   "metadata": {},
   "source": [
    "Load KEGG"
   ]
  },
  {
   "cell_type": "code",
   "execution_count": 8,
   "metadata": {
    "collapsed": true
   },
   "outputs": [],
   "source": [
    "kegg_dataframe = pd.read_excel(kegg_excel, dtype=object)\n",
    "\n",
    "kegg_pathways = create_pathway_gene_set_dict(kegg_dataframe)\n",
    "        \n",
    "try:\n",
    "    assert (len(kegg_pathways.keys()) == 325)\n",
    "except AssertionError as error:\n",
    "    print('DataFrame does not contain 325 pathways, contains: {}'.format(len(kegg_pathways.keys())))\n",
    "    "
   ]
  },
  {
   "cell_type": "markdown",
   "metadata": {},
   "source": [
    "Load Reactome"
   ]
  },
  {
   "cell_type": "code",
   "execution_count": 9,
   "metadata": {
    "collapsed": true
   },
   "outputs": [],
   "source": [
    "reactome_dataframe = pd.read_excel(reactome_excel, dtype=object)\n",
    "\n",
    "reactome_pathways = create_pathway_gene_set_dict(reactome_dataframe)\n",
    "\n",
    "reactome_manager = ReactomeManager()\n",
    "\n",
    "reactome_names_to_ids = reactome_manager.get_pathway_names_to_ids()\n",
    "\n",
    "try:\n",
    "    assert (len(reactome_names_to_ids.keys()) == 2162)\n",
    "except AssertionError as error:\n",
    "    print('Reactome Database contains {} pathways'.format(len(reactome_names_to_ids.keys()))) # Total of 2662 of those: 2132 are not empty\n",
    "    \n",
    "try:\n",
    "    assert (len(reactome_pathways.keys()) == 2132)\n",
    "except AssertionError as error:\n",
    "    print('DataFrame does not contain 2132 pathways, contains: {}'.format(len(reactome_pathways.keys())))\n"
   ]
  },
  {
   "cell_type": "markdown",
   "metadata": {},
   "source": [
    "Load WikiPathways"
   ]
  },
  {
   "cell_type": "code",
   "execution_count": 10,
   "metadata": {},
   "outputs": [
    {
     "name": "stdout",
     "output_type": "stream",
     "text": [
      "WikiPathways Database contains 420 pathways\n"
     ]
    }
   ],
   "source": [
    "wikipathways_dataframe = pd.read_excel(wikipathways_excel, dtype=object)\n",
    "\n",
    "wikipathways_pathways = create_pathway_gene_set_dict(wikipathways_dataframe)\n",
    "\n",
    "wikipathways_manager = WikiPathwaysManager()\n",
    "\n",
    "wikipathways_names_to_ids = wikipathways_manager.get_pathway_names_to_ids()\n",
    "\n",
    "try:\n",
    "    assert (len(wikipathways_names_to_ids.keys()) == 415)\n",
    "except AssertionError as error:\n",
    "    print('WikiPathways Database contains {} pathways'.format(len(wikipathways_names_to_ids.keys())))\n",
    "    \n",
    "try:\n",
    "    assert (len(wikipathways_pathways.keys()) == 415)\n",
    "except AssertionError as error:\n",
    "    print('DataFrame does not contain 415 pathways, contains: {}'.format(len(wikipathways_pathways.keys())))"
   ]
  },
  {
   "cell_type": "markdown",
   "metadata": {},
   "source": [
    "Delete keys from the dict so the dendrogram is not big"
   ]
  },
  {
   "cell_type": "code",
   "execution_count": 11,
   "metadata": {},
   "outputs": [
    {
     "name": "stdout",
     "output_type": "stream",
     "text": [
      "Dictionary size: 30\n"
     ]
    }
   ],
   "source": [
    "subset_kegg_pathways = {}\n",
    "\n",
    "for index, key in enumerate(kegg_pathways.keys()):\n",
    "    if index < 30:\n",
    "        subset_kegg_pathways[key] = kegg_pathways[key]\n",
    "        \n",
    "print(\"Dictionary size: {}\".format(len(subset_kegg_pathways)))"
   ]
  },
  {
   "cell_type": "code",
   "execution_count": 12,
   "metadata": {
    "collapsed": true
   },
   "outputs": [],
   "source": [
    "def create_similarity_matrix(dataset):\n",
    "    \"\"\"Creates a similarity matrix for a given pathway-geneset dataset\n",
    "    \n",
    "    :param dict dataset: pathway gene set dictionary\n",
    "    :rtype: pandas.DataFrame\n",
    "    :returns: similarity matrix\n",
    "    \"\"\"\n",
    "    \n",
    "    index = sorted(dataset.keys())\n",
    "    similarity_dataframe = pd.DataFrame(0.0, index=index, columns=index)\n",
    "    \n",
    "    for pathway_1, pathway_2 in itt.product(index, index):\n",
    "\n",
    "        intersection = len(dataset[pathway_1].intersection(dataset[pathway_2]))\n",
    "        smaller_set = min(len(dataset[pathway_1]), len(dataset[pathway_2]))\n",
    "                \n",
    "        similarity = float(intersection/smaller_set) # Formula to calculate similarity\n",
    "            \n",
    "        similarity_dataframe[pathway_1][pathway_2] = similarity\n",
    "        \n",
    "    return similarity_dataframe\n",
    "\n",
    "\n",
    "# Similar to scipy.spatial.distance.pdist metric = 'correlation\n",
    "def create_distance_matrix(dataframe):\n",
    "    \"\"\"Creates a distance matrix based on perason correlation and distance given the distance matrix\n",
    "    \n",
    "    :param pandas.DataFrame dataframe: distance matrix as pandasDataframe\n",
    "    :rtype: pandas.DataFrame\n",
    "    :returns: distance matrix\n",
    "    \"\"\"\n",
    "    \n",
    "    index = dataframe.columns\n",
    "        \n",
    "    distance_dataframe = pd.DataFrame(0.0, index=index, columns=index)\n",
    "        \n",
    "    for pathway_1, pathway_2 in itt.product(index, index):\n",
    "        \n",
    "        pearson_correlation = scipy.stats.pearsonr(dataframe[pathway_1],dataframe[pathway_2])\n",
    "                \n",
    "        distance_dataframe[pathway_1][pathway_2] = 1 - pearson_correlation[0]\n",
    "        \n",
    "    return distance_dataframe\n"
   ]
  },
  {
   "cell_type": "markdown",
   "metadata": {},
   "source": [
    "Create and visualize similarity matrices"
   ]
  },
  {
   "cell_type": "code",
   "execution_count": 13,
   "metadata": {
    "collapsed": true
   },
   "outputs": [],
   "source": [
    "test_similarity_matrix = create_similarity_matrix(subset_kegg_pathways)"
   ]
  },
  {
   "cell_type": "markdown",
   "metadata": {},
   "source": [
    "Cluster the pathways"
   ]
  },
  {
   "cell_type": "code",
   "execution_count": 14,
   "metadata": {
    "collapsed": true
   },
   "outputs": [],
   "source": [
    "clusters = scipy.cluster.hierarchy.linkage(test_similarity_matrix, method='average')\n",
    "tree = scipy.cluster.hierarchy.to_tree(clusters, rd=False)"
   ]
  },
  {
   "cell_type": "markdown",
   "metadata": {},
   "source": [
    "Labeling"
   ]
  },
  {
   "cell_type": "code",
   "execution_count": 15,
   "metadata": {
    "collapsed": true
   },
   "outputs": [],
   "source": [
    "# Create dictionary for labeling nodes by their IDs\n",
    "labels = list(test_similarity_matrix.columns)\n",
    "id2name = dict(zip(range(len(labels)), labels))"
   ]
  },
  {
   "cell_type": "code",
   "execution_count": 16,
   "metadata": {
    "collapsed": true
   },
   "outputs": [],
   "source": [
    "# scipy.cluster.hierarchy.dendrogram(clusters, labels=labels, orientation='right')"
   ]
  },
  {
   "cell_type": "markdown",
   "metadata": {},
   "source": [
    "Data transformation for D3.js"
   ]
  },
  {
   "cell_type": "code",
   "execution_count": 17,
   "metadata": {
    "collapsed": true
   },
   "outputs": [],
   "source": [
    "# Create a nested dictionary from the ClusterNode's returned by SciPy\n",
    "def add_node(node, parent):\n",
    "    # First create the new node and append it to its parent's children\n",
    "    newNode = dict(node_id=node.id, children=[])\n",
    "    parent[\"children\"].append(newNode)\n",
    "\n",
    "    # Recursively add the current node's children\n",
    "    if node.left: add_node(node.left, newNode)\n",
    "    if node.right: add_node(node.right, newNode)\n",
    "        \n",
    "\n",
    "# Label each node with the names of each leaf in its subtree\n",
    "def label_tree(n):\n",
    "    # If the node is a leaf, then we have its name\n",
    "    if len(n[\"children\"]) == 0:\n",
    "        leafNames = [id2name[n[\"node_id\"]]]\n",
    "\n",
    "    # If not, flatten all the leaves in the node's subtree\n",
    "    else:\n",
    "        leafNames = reduce(lambda ls, c: ls + label_tree(c), n[\"children\"], [])\n",
    "\n",
    "    # Delete the node id since we don't need it anymore and\n",
    "    # it makes for cleaner JSON\n",
    "    del n[\"node_id\"]\n",
    "\n",
    "    # Labeling convention: \"-\"-separated leaf names\n",
    "    n[\"name\"] = name = \"-\".join(sorted(map(str, leafNames)))\n",
    "\n",
    "    return leafNames"
   ]
  },
  {
   "cell_type": "code",
   "execution_count": 18,
   "metadata": {
    "collapsed": true
   },
   "outputs": [],
   "source": [
    "# Initialize nested dictionary for d3, then recursively iterate through tree\n",
    "d3Dendro = dict(children=[], name=\"Root1\")\n",
    "add_node(tree, d3Dendro)"
   ]
  },
  {
   "cell_type": "code",
   "execution_count": 19,
   "metadata": {
    "collapsed": true
   },
   "outputs": [],
   "source": [
    "test_tree = label_tree(d3Dendro[\"children\"][0])"
   ]
  },
  {
   "cell_type": "code",
   "execution_count": 20,
   "metadata": {
    "collapsed": true
   },
   "outputs": [],
   "source": [
    "json.dump(d3Dendro, open(\"d3-dendrogram.json\", \"w\"), sort_keys=True, indent=4)"
   ]
  },
  {
   "cell_type": "markdown",
   "metadata": {
    "collapsed": true
   },
   "source": [
    "### Test for a subset of specific pathways\n",
    "\n",
    "Comparison of pathway clusters"
   ]
  },
  {
   "cell_type": "markdown",
   "metadata": {
    "collapsed": true
   },
   "source": [
    "Example for a list of pathways"
   ]
  },
  {
   "cell_type": "code",
   "execution_count": 21,
   "metadata": {
    "collapsed": true
   },
   "outputs": [],
   "source": [
    "def _get_gene_set(resource_name, pathway_name):\n",
    "    \"\"\"Returns the resource gene set dictionary\n",
    "    \n",
    "    :param str resource_name: name of the resource\n",
    "    :param str pathway_name: name of the pathway\n",
    "    :rtype: dict\n",
    "    \"\"\"\n",
    "    \n",
    "    if resource_name == 'kegg':\n",
    "        return kegg_pathways[pathway_name]\n",
    "    \n",
    "    elif resource_name == 'reactome':\n",
    "        return reactome_pathways[pathway_name]\n",
    "    \n",
    "    elif resource_name == 'wikipathways':\n",
    "        return wikipathways_pathways[pathway_name]\n",
    "    \n",
    "    else:\n",
    "        raise ValueError('Not valid resource. please update this function')\n",
    "\n",
    "\n",
    "def similarity_matrix_from_pathway_list(pathway_list):\n",
    "    \"\"\"Creates a similarity matrix for a given pathway/resource list of tuples\n",
    "    \n",
    "    :param list[tuple[str,str]] pathway_list: list of tuples with resource pathway info\n",
    "    :rtype: pandas.DataFrame\n",
    "    :returns: similarity matrix\n",
    "    \"\"\"\n",
    "    \n",
    "    index = [\n",
    "        name\n",
    "        for name, resource in pathway_list\n",
    "    ]\n",
    "    \n",
    "    similarity_dataframe = pd.DataFrame(0.0, index=index, columns=index)\n",
    "    \n",
    "    for pathway_1, pathway_2 in itt.product(pathway_list, repeat=2):\n",
    "        \n",
    "        gene_set_1 = _get_gene_set(pathway_1[1],pathway_1[0])\n",
    "        gene_set_2 = _get_gene_set(pathway_2[1],pathway_2[0])\n",
    "\n",
    "        intersection = len(gene_set_1.intersection(gene_set_2))\n",
    "        smaller_set = min(len(gene_set_1), len(gene_set_2))\n",
    "                        \n",
    "        similarity = float(intersection/smaller_set) # Formula to calculate similarity\n",
    "            \n",
    "        similarity_dataframe[pathway_1[0]][pathway_2[0]] = similarity\n",
    "        \n",
    "    return similarity_dataframe"
   ]
  },
  {
   "cell_type": "code",
   "execution_count": 22,
   "metadata": {
    "collapsed": true
   },
   "outputs": [],
   "source": [
    "pathways = [\n",
    "    ('Signaling by VEGF','reactome'), \n",
    "    ('Prolactin signaling pathway - Homo sapiens (human)', 'kegg'),\n",
    "    ('Signaling by Non-Receptor Tyrosine Kinases', 'reactome'), \n",
    "    ('Proteoglycans in cancer - Homo sapiens (human)', 'kegg'), \n",
    "    ('Target Of Rapamycin (TOR) Signaling', 'wikipathways'),\n",
    "    ('FoxO signaling pathway - Homo sapiens (human)', 'kegg'), \n",
    "    ('GPCR downstream signalling', 'reactome'), \n",
    "    ('Caloric restriction and aging', 'wikipathways'),\n",
    "    ('Copper homeostasis', 'wikipathways')\n",
    "]       \n",
    "\n",
    "test_similarity_matrix_2 = similarity_matrix_from_pathway_list(pathways)\n"
   ]
  },
  {
   "cell_type": "code",
   "execution_count": 23,
   "metadata": {
    "scrolled": true
   },
   "outputs": [
    {
     "data": {
      "text/html": [
       "<div>\n",
       "<style>\n",
       "    .dataframe thead tr:only-child th {\n",
       "        text-align: right;\n",
       "    }\n",
       "\n",
       "    .dataframe thead th {\n",
       "        text-align: left;\n",
       "    }\n",
       "\n",
       "    .dataframe tbody tr th {\n",
       "        vertical-align: top;\n",
       "    }\n",
       "</style>\n",
       "<table border=\"1\" class=\"dataframe\">\n",
       "  <thead>\n",
       "    <tr style=\"text-align: right;\">\n",
       "      <th></th>\n",
       "      <th>Signaling by VEGF</th>\n",
       "      <th>Prolactin signaling pathway - Homo sapiens (human)</th>\n",
       "      <th>Signaling by Non-Receptor Tyrosine Kinases</th>\n",
       "      <th>Proteoglycans in cancer - Homo sapiens (human)</th>\n",
       "      <th>Target Of Rapamycin (TOR) Signaling</th>\n",
       "      <th>FoxO signaling pathway - Homo sapiens (human)</th>\n",
       "      <th>GPCR downstream signalling</th>\n",
       "      <th>Caloric restriction and aging</th>\n",
       "      <th>Copper homeostasis</th>\n",
       "    </tr>\n",
       "  </thead>\n",
       "  <tbody>\n",
       "    <tr>\n",
       "      <th>Signaling by VEGF</th>\n",
       "      <td>1.000000</td>\n",
       "      <td>0.228571</td>\n",
       "      <td>0.240741</td>\n",
       "      <td>0.409524</td>\n",
       "      <td>0.243243</td>\n",
       "      <td>0.142857</td>\n",
       "      <td>0.285714</td>\n",
       "      <td>0.250</td>\n",
       "      <td>0.037037</td>\n",
       "    </tr>\n",
       "    <tr>\n",
       "      <th>Prolactin signaling pathway - Homo sapiens (human)</th>\n",
       "      <td>0.228571</td>\n",
       "      <td>1.000000</td>\n",
       "      <td>0.129630</td>\n",
       "      <td>0.400000</td>\n",
       "      <td>0.027027</td>\n",
       "      <td>0.457143</td>\n",
       "      <td>0.314286</td>\n",
       "      <td>0.125</td>\n",
       "      <td>0.092593</td>\n",
       "    </tr>\n",
       "    <tr>\n",
       "      <th>Signaling by Non-Receptor Tyrosine Kinases</th>\n",
       "      <td>0.240741</td>\n",
       "      <td>0.129630</td>\n",
       "      <td>1.000000</td>\n",
       "      <td>0.296296</td>\n",
       "      <td>0.054054</td>\n",
       "      <td>0.185185</td>\n",
       "      <td>0.148148</td>\n",
       "      <td>0.125</td>\n",
       "      <td>0.037037</td>\n",
       "    </tr>\n",
       "    <tr>\n",
       "      <th>Proteoglycans in cancer - Homo sapiens (human)</th>\n",
       "      <td>0.409524</td>\n",
       "      <td>0.400000</td>\n",
       "      <td>0.296296</td>\n",
       "      <td>1.000000</td>\n",
       "      <td>0.162162</td>\n",
       "      <td>0.290076</td>\n",
       "      <td>0.221675</td>\n",
       "      <td>0.500</td>\n",
       "      <td>0.111111</td>\n",
       "    </tr>\n",
       "    <tr>\n",
       "      <th>Target Of Rapamycin (TOR) Signaling</th>\n",
       "      <td>0.243243</td>\n",
       "      <td>0.027027</td>\n",
       "      <td>0.054054</td>\n",
       "      <td>0.162162</td>\n",
       "      <td>1.000000</td>\n",
       "      <td>0.216216</td>\n",
       "      <td>0.108108</td>\n",
       "      <td>0.375</td>\n",
       "      <td>0.027027</td>\n",
       "    </tr>\n",
       "    <tr>\n",
       "      <th>FoxO signaling pathway - Homo sapiens (human)</th>\n",
       "      <td>0.142857</td>\n",
       "      <td>0.457143</td>\n",
       "      <td>0.185185</td>\n",
       "      <td>0.290076</td>\n",
       "      <td>0.216216</td>\n",
       "      <td>1.000000</td>\n",
       "      <td>0.167939</td>\n",
       "      <td>0.500</td>\n",
       "      <td>0.129630</td>\n",
       "    </tr>\n",
       "    <tr>\n",
       "      <th>GPCR downstream signalling</th>\n",
       "      <td>0.285714</td>\n",
       "      <td>0.314286</td>\n",
       "      <td>0.148148</td>\n",
       "      <td>0.221675</td>\n",
       "      <td>0.108108</td>\n",
       "      <td>0.167939</td>\n",
       "      <td>1.000000</td>\n",
       "      <td>0.125</td>\n",
       "      <td>0.055556</td>\n",
       "    </tr>\n",
       "    <tr>\n",
       "      <th>Caloric restriction and aging</th>\n",
       "      <td>0.250000</td>\n",
       "      <td>0.125000</td>\n",
       "      <td>0.125000</td>\n",
       "      <td>0.500000</td>\n",
       "      <td>0.375000</td>\n",
       "      <td>0.500000</td>\n",
       "      <td>0.125000</td>\n",
       "      <td>1.000</td>\n",
       "      <td>0.250000</td>\n",
       "    </tr>\n",
       "    <tr>\n",
       "      <th>Copper homeostasis</th>\n",
       "      <td>0.037037</td>\n",
       "      <td>0.092593</td>\n",
       "      <td>0.037037</td>\n",
       "      <td>0.111111</td>\n",
       "      <td>0.027027</td>\n",
       "      <td>0.129630</td>\n",
       "      <td>0.055556</td>\n",
       "      <td>0.250</td>\n",
       "      <td>1.000000</td>\n",
       "    </tr>\n",
       "  </tbody>\n",
       "</table>\n",
       "</div>"
      ],
      "text/plain": [
       "                                                    Signaling by VEGF  \\\n",
       "Signaling by VEGF                                            1.000000   \n",
       "Prolactin signaling pathway - Homo sapiens (human)           0.228571   \n",
       "Signaling by Non-Receptor Tyrosine Kinases                   0.240741   \n",
       "Proteoglycans in cancer - Homo sapiens (human)               0.409524   \n",
       "Target Of Rapamycin (TOR) Signaling                          0.243243   \n",
       "FoxO signaling pathway - Homo sapiens (human)                0.142857   \n",
       "GPCR downstream signalling                                   0.285714   \n",
       "Caloric restriction and aging                                0.250000   \n",
       "Copper homeostasis                                           0.037037   \n",
       "\n",
       "                                                    Prolactin signaling pathway - Homo sapiens (human)  \\\n",
       "Signaling by VEGF                                                                            0.228571    \n",
       "Prolactin signaling pathway - Homo sapiens (human)                                           1.000000    \n",
       "Signaling by Non-Receptor Tyrosine Kinases                                                   0.129630    \n",
       "Proteoglycans in cancer - Homo sapiens (human)                                               0.400000    \n",
       "Target Of Rapamycin (TOR) Signaling                                                          0.027027    \n",
       "FoxO signaling pathway - Homo sapiens (human)                                                0.457143    \n",
       "GPCR downstream signalling                                                                   0.314286    \n",
       "Caloric restriction and aging                                                                0.125000    \n",
       "Copper homeostasis                                                                           0.092593    \n",
       "\n",
       "                                                    Signaling by Non-Receptor Tyrosine Kinases  \\\n",
       "Signaling by VEGF                                                                     0.240741   \n",
       "Prolactin signaling pathway - Homo sapiens (human)                                    0.129630   \n",
       "Signaling by Non-Receptor Tyrosine Kinases                                            1.000000   \n",
       "Proteoglycans in cancer - Homo sapiens (human)                                        0.296296   \n",
       "Target Of Rapamycin (TOR) Signaling                                                   0.054054   \n",
       "FoxO signaling pathway - Homo sapiens (human)                                         0.185185   \n",
       "GPCR downstream signalling                                                            0.148148   \n",
       "Caloric restriction and aging                                                         0.125000   \n",
       "Copper homeostasis                                                                    0.037037   \n",
       "\n",
       "                                                    Proteoglycans in cancer - Homo sapiens (human)  \\\n",
       "Signaling by VEGF                                                                         0.409524   \n",
       "Prolactin signaling pathway - Homo sapiens (human)                                        0.400000   \n",
       "Signaling by Non-Receptor Tyrosine Kinases                                                0.296296   \n",
       "Proteoglycans in cancer - Homo sapiens (human)                                            1.000000   \n",
       "Target Of Rapamycin (TOR) Signaling                                                       0.162162   \n",
       "FoxO signaling pathway - Homo sapiens (human)                                             0.290076   \n",
       "GPCR downstream signalling                                                                0.221675   \n",
       "Caloric restriction and aging                                                             0.500000   \n",
       "Copper homeostasis                                                                        0.111111   \n",
       "\n",
       "                                                    Target Of Rapamycin (TOR) Signaling  \\\n",
       "Signaling by VEGF                                                              0.243243   \n",
       "Prolactin signaling pathway - Homo sapiens (human)                             0.027027   \n",
       "Signaling by Non-Receptor Tyrosine Kinases                                     0.054054   \n",
       "Proteoglycans in cancer - Homo sapiens (human)                                 0.162162   \n",
       "Target Of Rapamycin (TOR) Signaling                                            1.000000   \n",
       "FoxO signaling pathway - Homo sapiens (human)                                  0.216216   \n",
       "GPCR downstream signalling                                                     0.108108   \n",
       "Caloric restriction and aging                                                  0.375000   \n",
       "Copper homeostasis                                                             0.027027   \n",
       "\n",
       "                                                    FoxO signaling pathway - Homo sapiens (human)  \\\n",
       "Signaling by VEGF                                                                        0.142857   \n",
       "Prolactin signaling pathway - Homo sapiens (human)                                       0.457143   \n",
       "Signaling by Non-Receptor Tyrosine Kinases                                               0.185185   \n",
       "Proteoglycans in cancer - Homo sapiens (human)                                           0.290076   \n",
       "Target Of Rapamycin (TOR) Signaling                                                      0.216216   \n",
       "FoxO signaling pathway - Homo sapiens (human)                                            1.000000   \n",
       "GPCR downstream signalling                                                               0.167939   \n",
       "Caloric restriction and aging                                                            0.500000   \n",
       "Copper homeostasis                                                                       0.129630   \n",
       "\n",
       "                                                    GPCR downstream signalling  \\\n",
       "Signaling by VEGF                                                     0.285714   \n",
       "Prolactin signaling pathway - Homo sapiens (human)                    0.314286   \n",
       "Signaling by Non-Receptor Tyrosine Kinases                            0.148148   \n",
       "Proteoglycans in cancer - Homo sapiens (human)                        0.221675   \n",
       "Target Of Rapamycin (TOR) Signaling                                   0.108108   \n",
       "FoxO signaling pathway - Homo sapiens (human)                         0.167939   \n",
       "GPCR downstream signalling                                            1.000000   \n",
       "Caloric restriction and aging                                         0.125000   \n",
       "Copper homeostasis                                                    0.055556   \n",
       "\n",
       "                                                    Caloric restriction and aging  \\\n",
       "Signaling by VEGF                                                           0.250   \n",
       "Prolactin signaling pathway - Homo sapiens (human)                          0.125   \n",
       "Signaling by Non-Receptor Tyrosine Kinases                                  0.125   \n",
       "Proteoglycans in cancer - Homo sapiens (human)                              0.500   \n",
       "Target Of Rapamycin (TOR) Signaling                                         0.375   \n",
       "FoxO signaling pathway - Homo sapiens (human)                               0.500   \n",
       "GPCR downstream signalling                                                  0.125   \n",
       "Caloric restriction and aging                                               1.000   \n",
       "Copper homeostasis                                                          0.250   \n",
       "\n",
       "                                                    Copper homeostasis  \n",
       "Signaling by VEGF                                             0.037037  \n",
       "Prolactin signaling pathway - Homo sapiens (human)            0.092593  \n",
       "Signaling by Non-Receptor Tyrosine Kinases                    0.037037  \n",
       "Proteoglycans in cancer - Homo sapiens (human)                0.111111  \n",
       "Target Of Rapamycin (TOR) Signaling                           0.027027  \n",
       "FoxO signaling pathway - Homo sapiens (human)                 0.129630  \n",
       "GPCR downstream signalling                                    0.055556  \n",
       "Caloric restriction and aging                                 0.250000  \n",
       "Copper homeostasis                                            1.000000  "
      ]
     },
     "execution_count": 23,
     "metadata": {},
     "output_type": "execute_result"
    }
   ],
   "source": [
    "test_similarity_matrix_2"
   ]
  },
  {
   "cell_type": "markdown",
   "metadata": {},
   "source": [
    "Clustering calculating distance from pearson correlation. We compare our implementation vs the method scipy pdist function "
   ]
  },
  {
   "cell_type": "code",
   "execution_count": 25,
   "metadata": {},
   "outputs": [],
   "source": [
    "import scipy.spatial.distance as ssd\n",
    "\n",
    "# Use our own function\n",
    "distance_matrix_1 = create_distance_matrix(test_similarity_matrix_2)\n",
    "\n",
    "distance_matrix_1 = ssd.squareform(distance_matrix_1)"
   ]
  },
  {
   "cell_type": "code",
   "execution_count": 26,
   "metadata": {},
   "outputs": [
    {
     "data": {
      "text/plain": [
       "array([1.0399675 , 0.92564898, 0.68125487, 0.95408004, 1.30711477,\n",
       "       0.86027304, 1.08610356, 1.43166317, 1.14086517, 0.7357057 ,\n",
       "       1.43888096, 0.59824679, 0.77339255, 1.26392475, 1.2504176 ,\n",
       "       0.88756579, 1.30999461, 1.1616927 , 1.10580531, 1.27813923,\n",
       "       1.32240765, 1.16376845, 0.91703924, 1.08134487, 0.62165641,\n",
       "       1.29060602, 1.02009967, 1.24856028, 0.66466437, 1.28309193,\n",
       "       1.19865412, 0.55837002, 1.15951585, 1.38269781, 1.32672312,\n",
       "       0.95070556])"
      ]
     },
     "execution_count": 26,
     "metadata": {},
     "output_type": "execute_result"
    }
   ],
   "source": [
    "distance_matrix_1"
   ]
  },
  {
   "cell_type": "code",
   "execution_count": 27,
   "metadata": {},
   "outputs": [],
   "source": [
    "# Use pdist function with correlation metric as an argument\n",
    "distance_matrix_2 = ssd.pdist(test_similarity_matrix_2, metric= 'correlation')\n",
    "\n",
    "clusters = scipy.cluster.hierarchy.linkage(distance_matrix_2, method='average')\n",
    "#tree = scipy.cluster.hierarchy.to_tree(clusters, rd=False)"
   ]
  },
  {
   "cell_type": "code",
   "execution_count": 28,
   "metadata": {},
   "outputs": [
    {
     "data": {
      "text/plain": [
       "array([1.0399675 , 0.92564898, 0.68125487, 0.95408004, 1.30711477,\n",
       "       0.86027304, 1.08610356, 1.43166317, 1.14086517, 0.7357057 ,\n",
       "       1.43888096, 0.59824679, 0.77339255, 1.26392475, 1.2504176 ,\n",
       "       0.88756579, 1.30999461, 1.1616927 , 1.10580531, 1.27813923,\n",
       "       1.32240765, 1.16376845, 0.91703924, 1.08134487, 0.62165641,\n",
       "       1.29060602, 1.02009967, 1.24856028, 0.66466437, 1.28309193,\n",
       "       1.19865412, 0.55837002, 1.15951585, 1.38269781, 1.32672312,\n",
       "       0.95070556])"
      ]
     },
     "execution_count": 28,
     "metadata": {},
     "output_type": "execute_result"
    }
   ],
   "source": [
    "distance_matrix_2"
   ]
  },
  {
   "cell_type": "markdown",
   "metadata": {},
   "source": [
    "Histogram using the pdist method (1-R) where R is the pearson correlation"
   ]
  },
  {
   "cell_type": "code",
   "execution_count": 29,
   "metadata": {},
   "outputs": [
    {
     "data": {
      "text/plain": [
       "{'color_list': ['g', 'g', 'r', 'c', 'b', 'b', 'b', 'b'],\n",
       " 'dcoord': [[0.0, 0.5583700236994469, 0.5583700236994469, 0.0],\n",
       "  [0.0, 0.8423820184185021, 0.8423820184185021, 0.5583700236994469],\n",
       "  [0.0, 0.7733925459341382, 0.7733925459341382, 0.0],\n",
       "  [0.0, 0.6812548728341357, 0.6812548728341357, 0.0],\n",
       "  [0.0, 0.9066073894631934, 0.9066073894631934, 0.6812548728341357],\n",
       "  [0.7733925459341382,\n",
       "   0.9939935986945413,\n",
       "   0.9939935986945413,\n",
       "   0.9066073894631934],\n",
       "  [0.8423820184185021,\n",
       "   1.128703580913065,\n",
       "   1.128703580913065,\n",
       "   0.9939935986945413],\n",
       "  [0.0, 1.2518913630940807, 1.2518913630940807, 1.128703580913065]],\n",
       " 'icoord': [[25.0, 25.0, 35.0, 35.0],\n",
       "  [15.0, 15.0, 30.0, 30.0],\n",
       "  [45.0, 45.0, 55.0, 55.0],\n",
       "  [75.0, 75.0, 85.0, 85.0],\n",
       "  [65.0, 65.0, 80.0, 80.0],\n",
       "  [50.0, 50.0, 72.5, 72.5],\n",
       "  [22.5, 22.5, 61.25, 61.25],\n",
       "  [5.0, 5.0, 41.875, 41.875]],\n",
       " 'ivl': ['Copper homeostasis',\n",
       "  'Target Of Rapamycin (TOR) Signaling',\n",
       "  'FoxO signaling pathway - Homo sapiens (human)',\n",
       "  'Caloric restriction and aging',\n",
       "  'Prolactin signaling pathway - Homo sapiens (human)',\n",
       "  'GPCR downstream signalling',\n",
       "  'Signaling by Non-Receptor Tyrosine Kinases',\n",
       "  'Signaling by VEGF',\n",
       "  'Proteoglycans in cancer - Homo sapiens (human)'],\n",
       " 'leaves': [8, 4, 5, 7, 1, 6, 2, 0, 3]}"
      ]
     },
     "execution_count": 29,
     "metadata": {},
     "output_type": "execute_result"
    },
    {
     "data": {
      "image/png": "[encoded data removed]",
      "text/plain": [
       "<matplotlib.figure.Figure at 0x7fd252496400>"
      ]
     },
     "metadata": {},
     "output_type": "display_data"
    }
   ],
   "source": [
    "# Create dictionary for labeling nodes by their IDs\n",
    "labels = list(test_similarity_matrix_2.columns)\n",
    "id2name = dict(zip(range(len(labels)), labels))\n",
    "scipy.cluster.hierarchy.dendrogram(clusters, labels=labels, orientation='right')"
   ]
  },
  {
   "cell_type": "code",
   "execution_count": null,
   "metadata": {
    "collapsed": true
   },
   "outputs": [],
   "source": []
  }
 ],
 "metadata": {
  "kernelspec": {
   "display_name": "Python 3",
   "language": "python",
   "name": "python3"
  },
  "language_info": {
   "codemirror_mode": {
    "name": "ipython",
    "version": 3
   },
   "file_extension": ".py",
   "mimetype": "text/x-python",
   "name": "python",
   "nbconvert_exporter": "python",
   "pygments_lexer": "ipython3",
   "version": "3.4.5"
  }
 },
 "nbformat": 4,
 "nbformat_minor": 2
}
